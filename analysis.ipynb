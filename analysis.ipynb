{
 "cells": [
  {
   "cell_type": "markdown",
   "metadata": {},
   "source": [
    "## Setup and data load & wrangle"
   ]
  },
  {
   "cell_type": "code",
   "execution_count": 22,
   "metadata": {},
   "outputs": [],
   "source": [
    "from datetime import datetime, timedelta\n",
    "import numpy as np  \n",
    "import pandas as pd\n",
    "import plotly.graph_objs as go\n",
    "import seaborn as sns\n",
    "import enrich_transactions\n",
    "import os\n",
    "import glob\n",
    "from format_transactions import format_transactions\n",
    "from functools import reduce\n",
    "import pandas as pd\n",
    "from typing import List, Union\n",
    "\n",
    "import plotly.graph_objects as go\n",
    "import pandas as pd\n"
   ]
  },
  {
   "cell_type": "markdown",
   "metadata": {},
   "source": [
    "### Set some parameters"
   ]
  },
  {
   "cell_type": "code",
   "execution_count": 23,
   "metadata": {},
   "outputs": [],
   "source": [
    "pd.set_option('display.width', 170)  # Adjust the value as needed\n",
    "monitor = '4k'\n",
    "# monitor = '1080p'\n",
    "width_, height_ = (2200, 1100) if monitor == '4k' else (1000, 700)"
   ]
  },
  {
   "cell_type": "markdown",
   "metadata": {},
   "source": [
    "### Created functions go here"
   ]
  },
  {
   "cell_type": "code",
   "execution_count": 24,
   "metadata": {},
   "outputs": [],
   "source": [
    "def join_two_dfs(left: pd.DataFrame, right: pd.DataFrame, join_columns: List[str]) -> pd.DataFrame:\n",
    "    '''\n",
    "    Helper function to outer-join two DataFrames and merge their overlapping columns.\n",
    "    '''\n",
    "    # Get overlapping columns (excluding join columns)\n",
    "    join_cols_set = set(join_columns)\n",
    "    overlap_cols = set(left.columns) & set(right.columns) - join_cols_set\n",
    "    # Merge DataFrames with outer join\n",
    "    merged = pd.merge(left, right, on=join_columns, how='outer')\n",
    "    # For each overlapping column, merge them using coalesce\n",
    "    for col in overlap_cols:\n",
    "        merged[col] = merged[f'{col}_x'].combine_first(merged[f'{col}_y'])\n",
    "        merged.drop([f'{col}_x', f'{col}_y'], axis=1, inplace=True)\n",
    "    return merged\n",
    "\n",
    "def join_dataframes(dataframes: List[pd.DataFrame], \n",
    "                   join_columns: Union[str, List[str]]) -> pd.DataFrame:\n",
    "    '''\n",
    "    Perform an inner join across a list of DataFrames, merging columns with the same name.\n",
    "    dataframes: List of DataFrames to join\n",
    "    join_columns: Union[str, List[str]] - Column name(s) to join on. Can be a single string or list of strings\n",
    "        \n",
    "    Returns: df - Joined DataFrame with merged columns  \n",
    "    '''\n",
    "    # Input validation\n",
    "    if not dataframes:\n",
    "        raise ValueError('No DataFrames provided')\n",
    "    if len(dataframes) < 2:\n",
    "        raise ValueError('Need at least 2 DataFrames to join')\n",
    "    # Convert join_columns to list if string\n",
    "    if isinstance(join_columns, str):\n",
    "        join_columns = [join_columns]\n",
    "    # Use reduce to join all DataFrames\n",
    "    result = reduce(lambda left, right: join_two_dfs(left, right, join_columns), \n",
    "                   dataframes)\n",
    "    # Remove duplicates based on join columns, keeping first occurrence\n",
    "    result = result.drop_duplicates(subset=join_columns)\n",
    "    return result\n",
    "\n",
    "def get_full_data(folder_path):\n",
    "    '''\n",
    "    Function to find all data CSVs and merge them into one big df\n",
    "    Returns df\n",
    "    '''\n",
    "    # Get all CSV files in the specified folder\n",
    "    csv_paths = glob.glob(os.path.join(folder_path, '*.csv')) \n",
    "    if not csv_paths:\n",
    "        raise FileNotFoundError('No CSV files found in the specified directory.')\n",
    "    csv_files = [pd.read_csv(path) for path in csv_paths]\n",
    "    df_all_time = join_dataframes(csv_files, 'Transaction ID')\n",
    "    return df_all_time\n",
    "\n",
    "\n",
    "data_folder = '/Users/peter/Library/CloudStorage/GoogleDrive-petersargentgcse@gmail.com/My Drive/sources/bank_data/monzo'\n",
    "df_raw = get_full_data(data_folder)"
   ]
  },
  {
   "cell_type": "code",
   "execution_count": 26,
   "metadata": {},
   "outputs": [
    {
     "data": {
      "text/html": [
       "<div>\n",
       "<style scoped>\n",
       "    .dataframe tbody tr th:only-of-type {\n",
       "        vertical-align: middle;\n",
       "    }\n",
       "\n",
       "    .dataframe tbody tr th {\n",
       "        vertical-align: top;\n",
       "    }\n",
       "\n",
       "    .dataframe thead th {\n",
       "        text-align: right;\n",
       "    }\n",
       "</style>\n",
       "<table border=\"1\" class=\"dataframe\">\n",
       "  <thead>\n",
       "    <tr style=\"text-align: right;\">\n",
       "      <th></th>\n",
       "      <th>Transaction ID</th>\n",
       "      <th>Type</th>\n",
       "      <th>Local currency</th>\n",
       "      <th>Category</th>\n",
       "      <th>Emoji</th>\n",
       "      <th>Receipt</th>\n",
       "      <th>Local amount</th>\n",
       "      <th>Time</th>\n",
       "      <th>Name</th>\n",
       "      <th>Category split</th>\n",
       "      <th>Money In</th>\n",
       "      <th>Amount</th>\n",
       "      <th>Address</th>\n",
       "      <th>Money Out</th>\n",
       "      <th>Description</th>\n",
       "      <th>Currency</th>\n",
       "      <th>Notes and #tags</th>\n",
       "      <th>Date</th>\n",
       "    </tr>\n",
       "  </thead>\n",
       "  <tbody>\n",
       "    <tr>\n",
       "      <th>0</th>\n",
       "      <td>tx_00009rSwKq5ZYItXdcApof</td>\n",
       "      <td>Faster payment</td>\n",
       "      <td>GBP</td>\n",
       "      <td>Income</td>\n",
       "      <td>NaN</td>\n",
       "      <td>NaN</td>\n",
       "      <td>74.84</td>\n",
       "      <td>16:39:26</td>\n",
       "      <td>Sargent Peter</td>\n",
       "      <td>NaN</td>\n",
       "      <td>74.84</td>\n",
       "      <td>74.84</td>\n",
       "      <td>NaN</td>\n",
       "      <td>NaN</td>\n",
       "      <td>ME</td>\n",
       "      <td>GBP</td>\n",
       "      <td>ME</td>\n",
       "      <td>28/01/2020</td>\n",
       "    </tr>\n",
       "    <tr>\n",
       "      <th>1</th>\n",
       "      <td>tx_00009rV1snea0A5O38rrsX</td>\n",
       "      <td>Card payment</td>\n",
       "      <td>GBP</td>\n",
       "      <td>Eating out</td>\n",
       "      <td>☕</td>\n",
       "      <td>NaN</td>\n",
       "      <td>-20.00</td>\n",
       "      <td>16:51:01</td>\n",
       "      <td>Starbucks</td>\n",
       "      <td>NaN</td>\n",
       "      <td>NaN</td>\n",
       "      <td>-20.00</td>\n",
       "      <td>325 Kentish Town Road</td>\n",
       "      <td>-20.00</td>\n",
       "      <td>STARBUCKS              LONDON        GBR</td>\n",
       "      <td>GBP</td>\n",
       "      <td>NaN</td>\n",
       "      <td>29/01/2020</td>\n",
       "    </tr>\n",
       "    <tr>\n",
       "      <th>2</th>\n",
       "      <td>tx_00009rVFdyUGq35N4dUePK</td>\n",
       "      <td>Card payment</td>\n",
       "      <td>GBP</td>\n",
       "      <td>Groceries</td>\n",
       "      <td>🍏</td>\n",
       "      <td>NaN</td>\n",
       "      <td>-16.58</td>\n",
       "      <td>19:25:12</td>\n",
       "      <td>Sainsbury’s</td>\n",
       "      <td>NaN</td>\n",
       "      <td>NaN</td>\n",
       "      <td>-16.58</td>\n",
       "      <td>836 High Road</td>\n",
       "      <td>-16.58</td>\n",
       "      <td>SAINSBURYS SACAT 0513  NORTH FINCHLE GBR</td>\n",
       "      <td>GBP</td>\n",
       "      <td>NaN</td>\n",
       "      <td>29/01/2020</td>\n",
       "    </tr>\n",
       "    <tr>\n",
       "      <th>3</th>\n",
       "      <td>tx_00009rYvZSMl6LqB1zndUw</td>\n",
       "      <td>Card payment</td>\n",
       "      <td>GBP</td>\n",
       "      <td>Shopping</td>\n",
       "      <td>🔩</td>\n",
       "      <td>NaN</td>\n",
       "      <td>-1.99</td>\n",
       "      <td>13:59:08</td>\n",
       "      <td>Screwfix</td>\n",
       "      <td>NaN</td>\n",
       "      <td>NaN</td>\n",
       "      <td>-1.99</td>\n",
       "      <td>High Road</td>\n",
       "      <td>-1.99</td>\n",
       "      <td>SCREWFIX NORTH FINCHLE LONDON        GBR</td>\n",
       "      <td>GBP</td>\n",
       "      <td>NaN</td>\n",
       "      <td>31/01/2020</td>\n",
       "    </tr>\n",
       "    <tr>\n",
       "      <th>4</th>\n",
       "      <td>tx_00009rZPtGMASXnYbQqhvg</td>\n",
       "      <td>Card payment</td>\n",
       "      <td>GBP</td>\n",
       "      <td>Groceries</td>\n",
       "      <td>🍏</td>\n",
       "      <td>NaN</td>\n",
       "      <td>-18.44</td>\n",
       "      <td>19:38:52</td>\n",
       "      <td>Sainsbury’s</td>\n",
       "      <td>NaN</td>\n",
       "      <td>NaN</td>\n",
       "      <td>-18.44</td>\n",
       "      <td>836 High Road</td>\n",
       "      <td>-18.44</td>\n",
       "      <td>SAINSBURYS SACAT 0513  NORTH FINCHLE GBR</td>\n",
       "      <td>GBP</td>\n",
       "      <td>NaN</td>\n",
       "      <td>31/01/2020</td>\n",
       "    </tr>\n",
       "    <tr>\n",
       "      <th>...</th>\n",
       "      <td>...</td>\n",
       "      <td>...</td>\n",
       "      <td>...</td>\n",
       "      <td>...</td>\n",
       "      <td>...</td>\n",
       "      <td>...</td>\n",
       "      <td>...</td>\n",
       "      <td>...</td>\n",
       "      <td>...</td>\n",
       "      <td>...</td>\n",
       "      <td>...</td>\n",
       "      <td>...</td>\n",
       "      <td>...</td>\n",
       "      <td>...</td>\n",
       "      <td>...</td>\n",
       "      <td>...</td>\n",
       "      <td>...</td>\n",
       "      <td>...</td>\n",
       "    </tr>\n",
       "    <tr>\n",
       "      <th>6980</th>\n",
       "      <td>tx_0000AnXJViGQkERzFp6gQk</td>\n",
       "      <td>Card payment</td>\n",
       "      <td>GBP</td>\n",
       "      <td>Transport</td>\n",
       "      <td>🚴</td>\n",
       "      <td>NaN</td>\n",
       "      <td>-3.00</td>\n",
       "      <td>15:39:49</td>\n",
       "      <td>TfL Cycle Hire</td>\n",
       "      <td>NaN</td>\n",
       "      <td>NaN</td>\n",
       "      <td>-3.00</td>\n",
       "      <td>NaN</td>\n",
       "      <td>-3.00</td>\n",
       "      <td>TFL CYCLE HIRE         LONDON        GBR</td>\n",
       "      <td>GBP</td>\n",
       "      <td>NaN</td>\n",
       "      <td>30/10/2024</td>\n",
       "    </tr>\n",
       "    <tr>\n",
       "      <th>6981</th>\n",
       "      <td>tx_0000AnXq6iQqHREiobpBgn</td>\n",
       "      <td>Card payment</td>\n",
       "      <td>GBP</td>\n",
       "      <td>Eating out</td>\n",
       "      <td>🍽</td>\n",
       "      <td>NaN</td>\n",
       "      <td>-7.00</td>\n",
       "      <td>21:45:04</td>\n",
       "      <td>93 Feet East Food</td>\n",
       "      <td>NaN</td>\n",
       "      <td>NaN</td>\n",
       "      <td>-7.00</td>\n",
       "      <td>150 Brick Lane</td>\n",
       "      <td>-7.00</td>\n",
       "      <td>93 Feet East Food      London        GBR</td>\n",
       "      <td>GBP</td>\n",
       "      <td>NaN</td>\n",
       "      <td>30/10/2024</td>\n",
       "    </tr>\n",
       "    <tr>\n",
       "      <th>6982</th>\n",
       "      <td>tx_0000AnY3QIraLv1FzmVhJJ</td>\n",
       "      <td>Card payment</td>\n",
       "      <td>GBP</td>\n",
       "      <td>General</td>\n",
       "      <td>🍸</td>\n",
       "      <td>NaN</td>\n",
       "      <td>-12.40</td>\n",
       "      <td>00:14:17</td>\n",
       "      <td>Old Street Records</td>\n",
       "      <td>NaN</td>\n",
       "      <td>NaN</td>\n",
       "      <td>-12.40</td>\n",
       "      <td>350 -354 Old Street</td>\n",
       "      <td>-12.40</td>\n",
       "      <td>OLD STREET RECORDS     London        GBR</td>\n",
       "      <td>GBP</td>\n",
       "      <td>NaN</td>\n",
       "      <td>31/10/2024</td>\n",
       "    </tr>\n",
       "    <tr>\n",
       "      <th>6983</th>\n",
       "      <td>tx_0000AnY3QNVn4NYYPdLrX7</td>\n",
       "      <td>Pot transfer</td>\n",
       "      <td>GBP</td>\n",
       "      <td>Savings</td>\n",
       "      <td>NaN</td>\n",
       "      <td>NaN</td>\n",
       "      <td>-0.60</td>\n",
       "      <td>00:14:17</td>\n",
       "      <td>Savings Pot</td>\n",
       "      <td>NaN</td>\n",
       "      <td>NaN</td>\n",
       "      <td>-0.60</td>\n",
       "      <td>NaN</td>\n",
       "      <td>-0.60</td>\n",
       "      <td>Round up</td>\n",
       "      <td>GBP</td>\n",
       "      <td>NaN</td>\n",
       "      <td>31/10/2024</td>\n",
       "    </tr>\n",
       "    <tr>\n",
       "      <th>6984</th>\n",
       "      <td>tx_0000AnZA4gxQz16xfkaLLu</td>\n",
       "      <td>Card payment</td>\n",
       "      <td>GBP</td>\n",
       "      <td>Eating out</td>\n",
       "      <td>🍽</td>\n",
       "      <td>NaN</td>\n",
       "      <td>-5.00</td>\n",
       "      <td>13:03:31</td>\n",
       "      <td>Whitecross Street</td>\n",
       "      <td>NaN</td>\n",
       "      <td>NaN</td>\n",
       "      <td>-5.00</td>\n",
       "      <td>Whitecross Street</td>\n",
       "      <td>-5.00</td>\n",
       "      <td>whitecross street      London        GBR</td>\n",
       "      <td>GBP</td>\n",
       "      <td>NaN</td>\n",
       "      <td>31/10/2024</td>\n",
       "    </tr>\n",
       "  </tbody>\n",
       "</table>\n",
       "<p>6985 rows × 18 columns</p>\n",
       "</div>"
      ],
      "text/plain": [
       "                 Transaction ID            Type Local currency    Category Emoji Receipt  Local amount      Time                Name  Category split  Money In  Amount   \n",
       "0     tx_00009rSwKq5ZYItXdcApof  Faster payment            GBP      Income   NaN     NaN         74.84  16:39:26       Sargent Peter             NaN     74.84   74.84  \\\n",
       "1     tx_00009rV1snea0A5O38rrsX    Card payment            GBP  Eating out     ☕     NaN        -20.00  16:51:01           Starbucks             NaN       NaN  -20.00   \n",
       "2     tx_00009rVFdyUGq35N4dUePK    Card payment            GBP   Groceries     🍏     NaN        -16.58  19:25:12         Sainsbury’s             NaN       NaN  -16.58   \n",
       "3     tx_00009rYvZSMl6LqB1zndUw    Card payment            GBP    Shopping    🔩      NaN         -1.99  13:59:08            Screwfix             NaN       NaN   -1.99   \n",
       "4     tx_00009rZPtGMASXnYbQqhvg    Card payment            GBP   Groceries     🍏     NaN        -18.44  19:38:52         Sainsbury’s             NaN       NaN  -18.44   \n",
       "...                         ...             ...            ...         ...   ...     ...           ...       ...                 ...             ...       ...     ...   \n",
       "6980  tx_0000AnXJViGQkERzFp6gQk    Card payment            GBP   Transport     🚴     NaN         -3.00  15:39:49      TfL Cycle Hire             NaN       NaN   -3.00   \n",
       "6981  tx_0000AnXq6iQqHREiobpBgn    Card payment            GBP  Eating out     🍽     NaN         -7.00  21:45:04   93 Feet East Food             NaN       NaN   -7.00   \n",
       "6982  tx_0000AnY3QIraLv1FzmVhJJ    Card payment            GBP     General     🍸     NaN        -12.40  00:14:17  Old Street Records             NaN       NaN  -12.40   \n",
       "6983  tx_0000AnY3QNVn4NYYPdLrX7    Pot transfer            GBP     Savings   NaN     NaN         -0.60  00:14:17         Savings Pot             NaN       NaN   -0.60   \n",
       "6984  tx_0000AnZA4gxQz16xfkaLLu    Card payment            GBP  Eating out     🍽     NaN         -5.00  13:03:31   Whitecross Street             NaN       NaN   -5.00   \n",
       "\n",
       "                    Address  Money Out                               Description Currency Notes and #tags        Date  \n",
       "0                       NaN        NaN                                        ME      GBP              ME  28/01/2020  \n",
       "1     325 Kentish Town Road     -20.00  STARBUCKS              LONDON        GBR      GBP             NaN  29/01/2020  \n",
       "2             836 High Road     -16.58  SAINSBURYS SACAT 0513  NORTH FINCHLE GBR      GBP             NaN  29/01/2020  \n",
       "3                 High Road      -1.99  SCREWFIX NORTH FINCHLE LONDON        GBR      GBP             NaN  31/01/2020  \n",
       "4             836 High Road     -18.44  SAINSBURYS SACAT 0513  NORTH FINCHLE GBR      GBP             NaN  31/01/2020  \n",
       "...                     ...        ...                                       ...      ...             ...         ...  \n",
       "6980                    NaN      -3.00  TFL CYCLE HIRE         LONDON        GBR      GBP             NaN  30/10/2024  \n",
       "6981         150 Brick Lane      -7.00  93 Feet East Food      London        GBR      GBP             NaN  30/10/2024  \n",
       "6982    350 -354 Old Street     -12.40  OLD STREET RECORDS     London        GBR      GBP             NaN  31/10/2024  \n",
       "6983                    NaN      -0.60                                  Round up      GBP             NaN  31/10/2024  \n",
       "6984      Whitecross Street      -5.00  whitecross street      London        GBR      GBP             NaN  31/10/2024  \n",
       "\n",
       "[6985 rows x 18 columns]"
      ]
     },
     "execution_count": 26,
     "metadata": {},
     "output_type": "execute_result"
    }
   ],
   "source": [
    "df_raw"
   ]
  },
  {
   "cell_type": "code",
   "execution_count": null,
   "metadata": {},
   "outputs": [],
   "source": [
    "# def get_latest_csv(folder_path):\n",
    "#     '''\n",
    "#     Function to find the latest-created csv in the folder\n",
    "#     Returns csv file path\n",
    "#     '''\n",
    "#     # Get all CSV files in the specified folder\n",
    "#     csv_files = glob.glob(os.path.join(folder_path, '*.csv')) \n",
    "#     if not csv_files:\n",
    "#         raise FileNotFoundError('No CSV files found in the specified directory.')\n",
    "#     # Get the most recently added file\n",
    "#     latest_file = max(csv_files, key=os.path.getctime)\n",
    "#     return latest_file\n",
    "\n",
    "# def read_latest_csv(folder_path):\n",
    "#     '''\n",
    "#     Takes the file path and reads the csv file into a df\n",
    "#     Returns df of monzo transaction data (normally all-time transactions)\n",
    "#     '''\n",
    "#     latest_csv = get_latest_csv(folder_path)\n",
    "#     # Read the CSV file using pandas\n",
    "#     df = pd.read_csv(latest_csv)\n",
    "#     return df"
   ]
  },
  {
   "cell_type": "code",
   "execution_count": 16,
   "metadata": {},
   "outputs": [],
   "source": [
    "def create_month_col(df_, dt_col='tr_datetime'):\n",
    "    \"\"\"\n",
    "    Creates a column for the month of data in year-month format\n",
    "    Returns the df with new column\n",
    "    \"\"\"\n",
    "    df_[dt_col] = pd.to_datetime(df_[dt_col])\n",
    "    # df_['month'] = df_[dt_col].dt.to_period('M')\n",
    "    df_['month'] = df_[dt_col].dt.strftime('%Y-%m')\n",
    "    return df_\n",
    "\n",
    "def resample_datetime(df_, dt_col='tr_datetime'):\n",
    "    \"\"\"\n",
    "    Must be done for waterfall charts\n",
    "    Takes in a df with many rows per month (per-minute dt data)\n",
    "    Returns with just one per month, aggregated by sum\n",
    "    \"\"\"\n",
    "    # Set the date column as the index\n",
    "    df_ = df_.set_index(dt_col)\n",
    "    # Aggregate data by month\n",
    "    df_ = df_.resample('M').sum().reset_index()\n",
    "    return df_\n",
    "\n",
    "\n",
    "def forward_filler(start_date, n_days_):\n",
    "    \"\"\"\n",
    "    Creates a df of dates filled forwad by :n_days: days.\n",
    "    Returns date df\n",
    "    \"\"\"\n",
    "    # Generate sequence of dates\n",
    "    date_range = pd.date_range(start=start_date, periods=n_days_, freq='D')\n",
    "    # Create new df with date column\n",
    "    df_ = pd.DataFrame({'date': date_range})\n",
    "    df_['date'] = date_range\n",
    "    # We will have salary and other things on last day of month\n",
    "    df_['is_month_end'] = df_['date'] + pd.offsets.MonthEnd(0) == df_['date']\n",
    "    return df_\n",
    "\n",
    "\n",
    "def assign_categories(df_, classifications, based_on='name'):\n",
    "    \"\"\"\n",
    "    Re-assigns the category based on info from another column; default to 'name' col\n",
    "    Returns the amended transactions df\n",
    "    \"\"\"\n",
    "    if 'category_m' not in df_.columns:\n",
    "        df_['category_m'] = df_['category']\n",
    "    for category, bases in classifications.items():\n",
    "        df_.loc[df_[based_on].isin(bases), 'category_m'] = category\n",
    "    return df_\n"
   ]
  },
  {
   "cell_type": "markdown",
   "metadata": {},
   "source": [
    "### Load data then format and enrich"
   ]
  },
  {
   "cell_type": "code",
   "execution_count": 18,
   "metadata": {},
   "outputs": [],
   "source": [
    "# I was using the Monzo API to get data. However there is less data available via this method.\n",
    "# The data is richer if you manually export an all-time bank statement from the app.\n",
    "# This is saved in the google drive folder below\n",
    "\n",
    "# data folder location\n",
    "data_folder = '/Users/peter/Library/CloudStorage/GoogleDrive-petersargentgcse@gmail.com/My Drive/sources/bank_data/monzo'\n",
    "df_raw = get_full_data(data_folder)\n",
    "# Call the function and get the dataframe\n",
    "df_raw = read_latest_csv(data_folder)\n",
    "df_transactions = format_transactions(df_raw)"
   ]
  },
  {
   "cell_type": "markdown",
   "metadata": {},
   "source": [
    "### Do some exclusions"
   ]
  },
  {
   "cell_type": "code",
   "execution_count": 116,
   "metadata": {},
   "outputs": [],
   "source": [
    "# Top all-time transactions\n",
    "df_exclusions = df_transactions\n",
    "excl_pattern_regex = 'pot'\n",
    "excl_list_name = ['vanguard', 'peter sargent', 'sargent peter', 'vanguard asset management limited c']\n",
    "# this pot transaction accounts for a £230 discrepancy. however not 100% sure that the discrep IS CAUSED BY this transaction\n",
    "# keep_ids = ['tx_0000AkQ3sbHLmfKhfywazR']\n",
    "\n",
    "# Keep rows where ((type is NOT pot-related) AND (name is NOT in excl list)) OR (id in keep_ids)\n",
    "df_exclusions = df_exclusions[((~df_exclusions['type'].str.contains(excl_pattern_regex, regex=True)) & (~df_exclusions['name'].isin(excl_list_name))) | (df_exclusions['transaction_id'].isin(keep_ids))]"
   ]
  },
  {
   "cell_type": "markdown",
   "metadata": {},
   "source": [
    "### Annotate some for future reference"
   ]
  },
  {
   "cell_type": "code",
   "execution_count": 117,
   "metadata": {},
   "outputs": [],
   "source": [
    "name_annotations = {\n",
    "    'adyen' : 'some_transfer_service',\n",
    "    'doctap same day gp' : 'health check for montagn\\'hard',\n",
    "    'ee' : 'jamf_phone_contract',\n",
    "    'etoro' : 'dont_remember_buying',\n",
    "    'mp luz' : 'camera_shop_são_paulo',\n",
    "    'nash lp/2019' : 'some_meal',\n",
    "    'vitesse' : 'some_adventure_la_paz',\n",
    "    'wastecareli eb' : 'unknown',\n",
    "}"
   ]
  },
  {
   "cell_type": "code",
   "execution_count": 118,
   "metadata": {},
   "outputs": [
    {
     "name": "stdout",
     "output_type": "stream",
     "text": [
      "[WARN] KeyError: could not drop time. Not found in df columns\n",
      "[WARN] KeyError: could not drop emoji. Not found in df columns\n",
      "[WARN] KeyError: could not drop currency. Not found in df columns\n",
      "[WARN] KeyError: could not drop notes_and_tags. Not found in df columns\n",
      "[WARN] KeyError: could not drop address. Not found in df columns\n",
      "[WARN] KeyError: could not drop receipt. Not found in df columns\n",
      "[WARN] KeyError: could not drop category_split. Not found in df columns\n"
     ]
    }
   ],
   "source": [
    "df_transactions = enrich_transactions.main('', from_file=False, df_=df_exclusions)\n",
    "# Move this as needed\n",
    "# Any further manipulations should first create new df from the base one\n",
    "df_transactions_base = df_transactions"
   ]
  },
  {
   "cell_type": "markdown",
   "metadata": {},
   "source": [
    "## Create over-time waterfall chart"
   ]
  },
  {
   "cell_type": "code",
   "execution_count": 119,
   "metadata": {},
   "outputs": [],
   "source": [
    "df_waterfall_monthly = df_transactions_base\n",
    "df_waterfall_monthly = df_waterfall_monthly[['tr_datetime', 'amount', 'money_out', 'money_in']]\n",
    "\n",
    "# Prepare data for waterfall chart\n",
    "df_waterfall_monthly = resample_datetime(df_waterfall_monthly)\n",
    "df_waterfall_monthly = create_month_col(df_waterfall_monthly)\n",
    "# Add a starting value\n",
    "start_row = pd.DataFrame({'tr_datetime': [pd.NaT], 'month': ['start'], 'amount': [0]})\n",
    "df_waterfall_monthly = pd.concat([start_row, df_waterfall_monthly], ignore_index=True)"
   ]
  },
  {
   "cell_type": "markdown",
   "metadata": {},
   "source": [
    "### Budget forecast\n",
    "change this heading name it's a bit off"
   ]
  },
  {
   "cell_type": "code",
   "execution_count": 120,
   "metadata": {},
   "outputs": [],
   "source": [
    "## Set up basic forecasting data model. Tinker here to try different scenarios\n",
    "dict_forecast_model = {\n",
    "    'monthly_budget' : -1000,\n",
    "    'rent' : -700,\n",
    "    'salary_projection' : 1796.20,\n",
    "    'monthly_loan_repayment' : -50,\n",
    "    'adjustments' : {\n",
    "        'peel_surplus' : -80,\n",
    "        'initial_correction' : 128.52\n",
    "    }\n",
    "}\n",
    "# There are an average of 30.437 days in each calendar month\n",
    "dict_forecast_model['daily_budget'] = dict_forecast_model['monthly_budget']/30.437"
   ]
  },
  {
   "cell_type": "code",
   "execution_count": 121,
   "metadata": {},
   "outputs": [],
   "source": [
    "## Now complete data model\n",
    "# Create the other table - days going forwards\n",
    "balance_0 = df_transactions_base.iloc[-1]['balance']\n",
    "start_date = df_transactions_base.iloc[-1]['tr_datetime'].date()\n",
    "\n",
    "# Initialise forecast df with the date range\n",
    "n_days = 90\n",
    "df_forecast = forward_filler(start_date, n_days)\n",
    "# We must make sure that date of final row is the end of month\n",
    "forecast_eom = df_forecast['is_month_end'].iloc[-1]\n",
    "if not forecast_eom:\n",
    "    # We must fill until month end\n",
    "    end_date_0 = df_forecast['date'].iloc[-1]\n",
    "    # Find the end of the month\n",
    "    month_end = end_date_0 + pd.offsets.MonthEnd(0)\n",
    "    # Calculate the number of days until the end of the month - add fill-forward number\n",
    "    n_days += (month_end - end_date_0).days\n",
    "    # Regenerate the df with new n_days\n",
    "    df_forecast = forward_filler(start_date, n_days)\n",
    "\n",
    "# Initialise a col to contain the forecast balance change +/- each day\n",
    "df_forecast['daily_sum'] = dict_forecast_model['daily_budget']\n",
    "# TEMPORARY, REMOVE IN AUGUST\n",
    "idx_end_july = df_forecast[df_forecast['date']=='2024-07-31\t'].index\n",
    "df_forecast.loc[idx_end_july, 'is_month_end'] = False\n",
    "# Now fill daily summation col with logic:\n",
    "#        if month_end then add salary and loan repayment\n",
    "#        elif 14th day then add rent\n",
    "#        else preserve existing sum\n",
    "df_forecast['daily_sum'] = np.where(\n",
    "    df_forecast['is_month_end'],\n",
    "    df_forecast['daily_sum'] + dict_forecast_model['monthly_loan_repayment'] + dict_forecast_model['salary_projection'],\n",
    "    np.where(\n",
    "        df_forecast['date'].dt.day == 14,\n",
    "        df_forecast['daily_sum'] + dict_forecast_model['rent'],\n",
    "        df_forecast['daily_sum']\n",
    "    )\n",
    ")\n",
    "adjust_balance_0 = balance_0 + dict_forecast_model['daily_budget'] + sum([adjustment for adjustment in dict_forecast_model['adjustments'].values()])\n",
    "# Now add initial balance. Must be done in separate np.where as it's not mutually exclusive with the logic above (start_date could be 30th/14th)\n",
    "df_forecast['balance_projected'] = df_forecast['daily_sum'].shift(fill_value=0).cumsum() + adjust_balance_0"
   ]
  },
  {
   "cell_type": "code",
   "execution_count": 122,
   "metadata": {},
   "outputs": [],
   "source": [
    "## Now bring to same format for waterfall\n",
    "df_forecast['month'] = df_forecast['date'].dt.strftime('%Y-%m')\n",
    "df_forecast_pivot = df_forecast.pivot_table(\n",
    "    values='daily_sum',\n",
    "    index='month',\n",
    "    aggfunc='sum'\n",
    ").sort_values('month').reset_index()\n",
    "df_forecast_pivot = df_forecast_pivot.rename(columns={'daily_sum': 'amount'})\n",
    "\n",
    "df_waterfall_monthly = pd.concat([df_waterfall_monthly, df_forecast_pivot], ignore_index=True)"
   ]
  },
  {
   "cell_type": "markdown",
   "metadata": {},
   "source": [
    "### Add shaded regions and lines to chart\n",
    "These are useful to show my living circumstances at the time of spend/gain"
   ]
  },
  {
   "cell_type": "code",
   "execution_count": 123,
   "metadata": {},
   "outputs": [],
   "source": [
    "## Create shaded region coordinates for each region\n",
    "# Generate a colour palette\n",
    "palette = sns.color_palette('Set1')\n",
    "opacity_bg = 0.2\n",
    "new_palette = []\n",
    "for colour in palette:\n",
    "    new_colour = list(colour)\n",
    "    new_colour.append(opacity_bg)\n",
    "    new_palette.append(tuple(new_colour))\n",
    "\n",
    "\n",
    "# Define region dates\n",
    "regions_start_end = {\n",
    "    'uni' :\n",
    "        {'start': datetime(2016, 9, 1), 'end' : datetime(2019, 7, 31)},\n",
    "    'tap' :\n",
    "        {'start': datetime(2020, 2, 1), 'end' : datetime(2021, 6, 1)},\n",
    "    'jamf' :\n",
    "        {'start': datetime(2021, 6, 2), 'end' : datetime(2023, 2, 4)},\n",
    "    'south_america' :\n",
    "        {'start': datetime(2023, 2, 5), 'end' : datetime(2023, 12, 10)},\n",
    "    'return' :\n",
    "        {'start': datetime(2023, 12, 11), 'end' : datetime(2024, 3, 1)},\n",
    "    'yacht' :\n",
    "        {'start': datetime(2024, 3, 2), 'end' : datetime.now().date()},\n",
    "    'palladium' :\n",
    "        {'start': datetime(2024, 6, 17), 'end' : datetime.now().date()},\n",
    "}\n",
    "add_shapes = []\n",
    "palette_index = 1\n",
    "for name, dates in regions_start_end.items():\n",
    "    add_shapes.append(\n",
    "        {'x0': dates['start'],\n",
    "         'x1': dates['end'],\n",
    "         'y0': df_waterfall_monthly['amount'].cumsum().min()-1000,\n",
    "         'y1': df_waterfall_monthly['amount'].cumsum().max()+1000,\n",
    "         'fillcolor': f'rgba{new_palette[palette_index]}',\n",
    "         'line': {'width': 0}\n",
    "        }\n",
    "    )\n",
    "    palette_index+=1"
   ]
  },
  {
   "cell_type": "code",
   "execution_count": 124,
   "metadata": {},
   "outputs": [],
   "source": [
    "## Set up vertical lines for covid lockdown dates\n",
    "date_0 = '2020-03-23'\n",
    "date_1 = '2021-07-19'\n",
    "\n",
    "def vert_line_params():\n",
    "    return {\n",
    "        'type' : 'line',\n",
    "        'y0' : -500,\n",
    "        'y1' : df_waterfall_monthly['amount'].cumsum().max()+1000,\n",
    "        'line' : {\n",
    "            'color' : 'rgba(0, 0, 0, 0.4)',\n",
    "            'width' : 1,\n",
    "        }\n",
    "    }\n",
    "\n",
    "line_0 = vert_line_params()\n",
    "line_1 = vert_line_params()\n",
    "line_0.update({\n",
    "    'x0' : date_0,\n",
    "    'x1' : date_0,\n",
    "})\n",
    "line_1.update({\n",
    "    'x0' : date_1,\n",
    "    'x1' : date_1,\n",
    "})\n",
    "add_shapes.extend([line_0, line_1])"
   ]
  },
  {
   "cell_type": "code",
   "execution_count": 125,
   "metadata": {},
   "outputs": [
    {
     "data": {
      "application/vnd.plotly.v1+json": {
       "config": {
        "plotlyServerURL": "https://plot.ly"
       },
       "data": [
        {
         "connector": {
          "line": {
           "color": "rgba(63, 63, 63, 0)"
          }
         },
         "text": [
          0,
          -57.01,
          374.2,
          707.1500000000001,
          370.11000000000007,
          789.38,
          1265.76,
          337.86000000000007,
          723.6,
          565.1800000000001,
          -93.36999999999993,
          308.61,
          1439.0199999999998,
          1078.32,
          20.140000000000043,
          275.84,
          750.56,
          161.87999999999985,
          651.37,
          452.5099999999999,
          388.84999999999997,
          159.90000000000003,
          137.15000000000003,
          -321.51,
          -1179.8899999999999,
          -382.13,
          -38.3700000000001,
          -283.07000000000016,
          -751.3699999999999,
          1475.4499999999998,
          -465.1500000000001,
          -425.7700000000001,
          -447.72,
          199.1700000000002,
          -157.3300000000001,
          -863.9600000000002,
          3124.4700000000003,
          -634.19,
          -1572.68,
          -2455.4900000000002,
          -655.9,
          -619.55,
          -265.59000000000003,
          -462.13,
          -619.64,
          -1952.1200000000001,
          -50.89999999999996,
          -953.3399999999999,
          -245.53,
          -43.790000000000006,
          -95.72,
          622.69,
          857.79,
          226.50000000000003,
          -576.0799999999999,
          2633.73,
          199.70999999999998,
          60.55752538029401,
          60.55752538029401,
          27.70277622630374
         ],
         "textposition": "outside",
         "type": "waterfall",
         "x": [
          "start",
          "2020-01",
          "2020-02",
          "2020-03",
          "2020-04",
          "2020-05",
          "2020-06",
          "2020-07",
          "2020-08",
          "2020-09",
          "2020-10",
          "2020-11",
          "2020-12",
          "2021-01",
          "2021-02",
          "2021-03",
          "2021-04",
          "2021-05",
          "2021-06",
          "2021-07",
          "2021-08",
          "2021-09",
          "2021-10",
          "2021-11",
          "2021-12",
          "2022-01",
          "2022-02",
          "2022-03",
          "2022-04",
          "2022-05",
          "2022-06",
          "2022-07",
          "2022-08",
          "2022-09",
          "2022-10",
          "2022-11",
          "2022-12",
          "2023-01",
          "2023-02",
          "2023-03",
          "2023-04",
          "2023-05",
          "2023-06",
          "2023-07",
          "2023-08",
          "2023-09",
          "2023-10",
          "2023-11",
          "2023-12",
          "2024-01",
          "2024-02",
          "2024-03",
          "2024-04",
          "2024-05",
          "2024-06",
          "2024-07",
          "2024-08",
          "2024-08",
          "2024-09",
          "2024-10"
         ],
         "y": [
          0,
          -57.01,
          374.2,
          707.1500000000001,
          370.11000000000007,
          789.38,
          1265.76,
          337.86000000000007,
          723.6,
          565.1800000000001,
          -93.36999999999993,
          308.61,
          1439.0199999999998,
          1078.32,
          20.140000000000043,
          275.84,
          750.56,
          161.87999999999985,
          651.37,
          452.5099999999999,
          388.84999999999997,
          159.90000000000003,
          137.15000000000003,
          -321.51,
          -1179.8899999999999,
          -382.13,
          -38.3700000000001,
          -283.07000000000016,
          -751.3699999999999,
          1475.4499999999998,
          -465.1500000000001,
          -425.7700000000001,
          -447.72,
          199.1700000000002,
          -157.3300000000001,
          -863.9600000000002,
          3124.4700000000003,
          -634.19,
          -1572.68,
          -2455.4900000000002,
          -655.9,
          -619.55,
          -265.59000000000003,
          -462.13,
          -619.64,
          -1952.1200000000001,
          -50.89999999999996,
          -953.3399999999999,
          -245.53,
          -43.790000000000006,
          -95.72,
          622.69,
          857.79,
          226.50000000000003,
          -576.0799999999999,
          2633.73,
          199.70999999999998,
          60.55752538029401,
          60.55752538029401,
          27.70277622630374
         ]
        }
       ],
       "layout": {
        "height": 1100,
        "shapes": [
         {
          "fillcolor": "rgba(0.21568627450980393, 0.49411764705882355, 0.7215686274509804, 0.2)",
          "line": {
           "width": 0
          },
          "x0": "2016-09-01T00:00:00",
          "x1": "2019-07-31T00:00:00",
          "y0": -1336.7399999999989,
          "y1": 11807.01
         },
         {
          "fillcolor": "rgba(0.30196078431372547, 0.6862745098039216, 0.2901960784313726, 0.2)",
          "line": {
           "width": 0
          },
          "x0": "2020-02-01T00:00:00",
          "x1": "2021-06-01T00:00:00",
          "y0": -1336.7399999999989,
          "y1": 11807.01
         },
         {
          "fillcolor": "rgba(0.596078431372549, 0.3058823529411765, 0.6392156862745098, 0.2)",
          "line": {
           "width": 0
          },
          "x0": "2021-06-02T00:00:00",
          "x1": "2023-02-04T00:00:00",
          "y0": -1336.7399999999989,
          "y1": 11807.01
         },
         {
          "fillcolor": "rgba(1.0, 0.4980392156862745, 0.0, 0.2)",
          "line": {
           "width": 0
          },
          "x0": "2023-02-05T00:00:00",
          "x1": "2023-12-10T00:00:00",
          "y0": -1336.7399999999989,
          "y1": 11807.01
         },
         {
          "fillcolor": "rgba(1.0, 1.0, 0.2, 0.2)",
          "line": {
           "width": 0
          },
          "x0": "2023-12-11T00:00:00",
          "x1": "2024-03-01T00:00:00",
          "y0": -1336.7399999999989,
          "y1": 11807.01
         },
         {
          "fillcolor": "rgba(0.6509803921568628, 0.33725490196078434, 0.1568627450980392, 0.2)",
          "line": {
           "width": 0
          },
          "x0": "2024-03-02T00:00:00",
          "x1": "2024-08-03",
          "y0": -1336.7399999999989,
          "y1": 11807.01
         },
         {
          "fillcolor": "rgba(0.9686274509803922, 0.5058823529411764, 0.7490196078431373, 0.2)",
          "line": {
           "width": 0
          },
          "x0": "2024-06-17T00:00:00",
          "x1": "2024-08-03",
          "y0": -1336.7399999999989,
          "y1": 11807.01
         },
         {
          "line": {
           "color": "rgba(0, 0, 0, 0.4)",
           "width": 1
          },
          "type": "line",
          "x0": "2020-03-23",
          "x1": "2020-03-23",
          "y0": -500,
          "y1": 11807.01
         },
         {
          "line": {
           "color": "rgba(0, 0, 0, 0.4)",
           "width": 1
          },
          "type": "line",
          "x0": "2021-07-19",
          "x1": "2021-07-19",
          "y0": -500,
          "y1": 11807.01
         }
        ],
        "template": {
         "data": {
          "bar": [
           {
            "error_x": {
             "color": "#2a3f5f"
            },
            "error_y": {
             "color": "#2a3f5f"
            },
            "marker": {
             "line": {
              "color": "#E5ECF6",
              "width": 0.5
             },
             "pattern": {
              "fillmode": "overlay",
              "size": 10,
              "solidity": 0.2
             }
            },
            "type": "bar"
           }
          ],
          "barpolar": [
           {
            "marker": {
             "line": {
              "color": "#E5ECF6",
              "width": 0.5
             },
             "pattern": {
              "fillmode": "overlay",
              "size": 10,
              "solidity": 0.2
             }
            },
            "type": "barpolar"
           }
          ],
          "carpet": [
           {
            "aaxis": {
             "endlinecolor": "#2a3f5f",
             "gridcolor": "white",
             "linecolor": "white",
             "minorgridcolor": "white",
             "startlinecolor": "#2a3f5f"
            },
            "baxis": {
             "endlinecolor": "#2a3f5f",
             "gridcolor": "white",
             "linecolor": "white",
             "minorgridcolor": "white",
             "startlinecolor": "#2a3f5f"
            },
            "type": "carpet"
           }
          ],
          "choropleth": [
           {
            "colorbar": {
             "outlinewidth": 0,
             "ticks": ""
            },
            "type": "choropleth"
           }
          ],
          "contour": [
           {
            "colorbar": {
             "outlinewidth": 0,
             "ticks": ""
            },
            "colorscale": [
             [
              0,
              "#0d0887"
             ],
             [
              0.1111111111111111,
              "#46039f"
             ],
             [
              0.2222222222222222,
              "#7201a8"
             ],
             [
              0.3333333333333333,
              "#9c179e"
             ],
             [
              0.4444444444444444,
              "#bd3786"
             ],
             [
              0.5555555555555556,
              "#d8576b"
             ],
             [
              0.6666666666666666,
              "#ed7953"
             ],
             [
              0.7777777777777778,
              "#fb9f3a"
             ],
             [
              0.8888888888888888,
              "#fdca26"
             ],
             [
              1,
              "#f0f921"
             ]
            ],
            "type": "contour"
           }
          ],
          "contourcarpet": [
           {
            "colorbar": {
             "outlinewidth": 0,
             "ticks": ""
            },
            "type": "contourcarpet"
           }
          ],
          "heatmap": [
           {
            "colorbar": {
             "outlinewidth": 0,
             "ticks": ""
            },
            "colorscale": [
             [
              0,
              "#0d0887"
             ],
             [
              0.1111111111111111,
              "#46039f"
             ],
             [
              0.2222222222222222,
              "#7201a8"
             ],
             [
              0.3333333333333333,
              "#9c179e"
             ],
             [
              0.4444444444444444,
              "#bd3786"
             ],
             [
              0.5555555555555556,
              "#d8576b"
             ],
             [
              0.6666666666666666,
              "#ed7953"
             ],
             [
              0.7777777777777778,
              "#fb9f3a"
             ],
             [
              0.8888888888888888,
              "#fdca26"
             ],
             [
              1,
              "#f0f921"
             ]
            ],
            "type": "heatmap"
           }
          ],
          "heatmapgl": [
           {
            "colorbar": {
             "outlinewidth": 0,
             "ticks": ""
            },
            "colorscale": [
             [
              0,
              "#0d0887"
             ],
             [
              0.1111111111111111,
              "#46039f"
             ],
             [
              0.2222222222222222,
              "#7201a8"
             ],
             [
              0.3333333333333333,
              "#9c179e"
             ],
             [
              0.4444444444444444,
              "#bd3786"
             ],
             [
              0.5555555555555556,
              "#d8576b"
             ],
             [
              0.6666666666666666,
              "#ed7953"
             ],
             [
              0.7777777777777778,
              "#fb9f3a"
             ],
             [
              0.8888888888888888,
              "#fdca26"
             ],
             [
              1,
              "#f0f921"
             ]
            ],
            "type": "heatmapgl"
           }
          ],
          "histogram": [
           {
            "marker": {
             "pattern": {
              "fillmode": "overlay",
              "size": 10,
              "solidity": 0.2
             }
            },
            "type": "histogram"
           }
          ],
          "histogram2d": [
           {
            "colorbar": {
             "outlinewidth": 0,
             "ticks": ""
            },
            "colorscale": [
             [
              0,
              "#0d0887"
             ],
             [
              0.1111111111111111,
              "#46039f"
             ],
             [
              0.2222222222222222,
              "#7201a8"
             ],
             [
              0.3333333333333333,
              "#9c179e"
             ],
             [
              0.4444444444444444,
              "#bd3786"
             ],
             [
              0.5555555555555556,
              "#d8576b"
             ],
             [
              0.6666666666666666,
              "#ed7953"
             ],
             [
              0.7777777777777778,
              "#fb9f3a"
             ],
             [
              0.8888888888888888,
              "#fdca26"
             ],
             [
              1,
              "#f0f921"
             ]
            ],
            "type": "histogram2d"
           }
          ],
          "histogram2dcontour": [
           {
            "colorbar": {
             "outlinewidth": 0,
             "ticks": ""
            },
            "colorscale": [
             [
              0,
              "#0d0887"
             ],
             [
              0.1111111111111111,
              "#46039f"
             ],
             [
              0.2222222222222222,
              "#7201a8"
             ],
             [
              0.3333333333333333,
              "#9c179e"
             ],
             [
              0.4444444444444444,
              "#bd3786"
             ],
             [
              0.5555555555555556,
              "#d8576b"
             ],
             [
              0.6666666666666666,
              "#ed7953"
             ],
             [
              0.7777777777777778,
              "#fb9f3a"
             ],
             [
              0.8888888888888888,
              "#fdca26"
             ],
             [
              1,
              "#f0f921"
             ]
            ],
            "type": "histogram2dcontour"
           }
          ],
          "mesh3d": [
           {
            "colorbar": {
             "outlinewidth": 0,
             "ticks": ""
            },
            "type": "mesh3d"
           }
          ],
          "parcoords": [
           {
            "line": {
             "colorbar": {
              "outlinewidth": 0,
              "ticks": ""
             }
            },
            "type": "parcoords"
           }
          ],
          "pie": [
           {
            "automargin": true,
            "type": "pie"
           }
          ],
          "scatter": [
           {
            "fillpattern": {
             "fillmode": "overlay",
             "size": 10,
             "solidity": 0.2
            },
            "type": "scatter"
           }
          ],
          "scatter3d": [
           {
            "line": {
             "colorbar": {
              "outlinewidth": 0,
              "ticks": ""
             }
            },
            "marker": {
             "colorbar": {
              "outlinewidth": 0,
              "ticks": ""
             }
            },
            "type": "scatter3d"
           }
          ],
          "scattercarpet": [
           {
            "marker": {
             "colorbar": {
              "outlinewidth": 0,
              "ticks": ""
             }
            },
            "type": "scattercarpet"
           }
          ],
          "scattergeo": [
           {
            "marker": {
             "colorbar": {
              "outlinewidth": 0,
              "ticks": ""
             }
            },
            "type": "scattergeo"
           }
          ],
          "scattergl": [
           {
            "marker": {
             "colorbar": {
              "outlinewidth": 0,
              "ticks": ""
             }
            },
            "type": "scattergl"
           }
          ],
          "scattermapbox": [
           {
            "marker": {
             "colorbar": {
              "outlinewidth": 0,
              "ticks": ""
             }
            },
            "type": "scattermapbox"
           }
          ],
          "scatterpolar": [
           {
            "marker": {
             "colorbar": {
              "outlinewidth": 0,
              "ticks": ""
             }
            },
            "type": "scatterpolar"
           }
          ],
          "scatterpolargl": [
           {
            "marker": {
             "colorbar": {
              "outlinewidth": 0,
              "ticks": ""
             }
            },
            "type": "scatterpolargl"
           }
          ],
          "scatterternary": [
           {
            "marker": {
             "colorbar": {
              "outlinewidth": 0,
              "ticks": ""
             }
            },
            "type": "scatterternary"
           }
          ],
          "surface": [
           {
            "colorbar": {
             "outlinewidth": 0,
             "ticks": ""
            },
            "colorscale": [
             [
              0,
              "#0d0887"
             ],
             [
              0.1111111111111111,
              "#46039f"
             ],
             [
              0.2222222222222222,
              "#7201a8"
             ],
             [
              0.3333333333333333,
              "#9c179e"
             ],
             [
              0.4444444444444444,
              "#bd3786"
             ],
             [
              0.5555555555555556,
              "#d8576b"
             ],
             [
              0.6666666666666666,
              "#ed7953"
             ],
             [
              0.7777777777777778,
              "#fb9f3a"
             ],
             [
              0.8888888888888888,
              "#fdca26"
             ],
             [
              1,
              "#f0f921"
             ]
            ],
            "type": "surface"
           }
          ],
          "table": [
           {
            "cells": {
             "fill": {
              "color": "#EBF0F8"
             },
             "line": {
              "color": "white"
             }
            },
            "header": {
             "fill": {
              "color": "#C8D4E3"
             },
             "line": {
              "color": "white"
             }
            },
            "type": "table"
           }
          ]
         },
         "layout": {
          "annotationdefaults": {
           "arrowcolor": "#2a3f5f",
           "arrowhead": 0,
           "arrowwidth": 1
          },
          "autotypenumbers": "strict",
          "coloraxis": {
           "colorbar": {
            "outlinewidth": 0,
            "ticks": ""
           }
          },
          "colorscale": {
           "diverging": [
            [
             0,
             "#8e0152"
            ],
            [
             0.1,
             "#c51b7d"
            ],
            [
             0.2,
             "#de77ae"
            ],
            [
             0.3,
             "#f1b6da"
            ],
            [
             0.4,
             "#fde0ef"
            ],
            [
             0.5,
             "#f7f7f7"
            ],
            [
             0.6,
             "#e6f5d0"
            ],
            [
             0.7,
             "#b8e186"
            ],
            [
             0.8,
             "#7fbc41"
            ],
            [
             0.9,
             "#4d9221"
            ],
            [
             1,
             "#276419"
            ]
           ],
           "sequential": [
            [
             0,
             "#0d0887"
            ],
            [
             0.1111111111111111,
             "#46039f"
            ],
            [
             0.2222222222222222,
             "#7201a8"
            ],
            [
             0.3333333333333333,
             "#9c179e"
            ],
            [
             0.4444444444444444,
             "#bd3786"
            ],
            [
             0.5555555555555556,
             "#d8576b"
            ],
            [
             0.6666666666666666,
             "#ed7953"
            ],
            [
             0.7777777777777778,
             "#fb9f3a"
            ],
            [
             0.8888888888888888,
             "#fdca26"
            ],
            [
             1,
             "#f0f921"
            ]
           ],
           "sequentialminus": [
            [
             0,
             "#0d0887"
            ],
            [
             0.1111111111111111,
             "#46039f"
            ],
            [
             0.2222222222222222,
             "#7201a8"
            ],
            [
             0.3333333333333333,
             "#9c179e"
            ],
            [
             0.4444444444444444,
             "#bd3786"
            ],
            [
             0.5555555555555556,
             "#d8576b"
            ],
            [
             0.6666666666666666,
             "#ed7953"
            ],
            [
             0.7777777777777778,
             "#fb9f3a"
            ],
            [
             0.8888888888888888,
             "#fdca26"
            ],
            [
             1,
             "#f0f921"
            ]
           ]
          },
          "colorway": [
           "#636efa",
           "#EF553B",
           "#00cc96",
           "#ab63fa",
           "#FFA15A",
           "#19d3f3",
           "#FF6692",
           "#B6E880",
           "#FF97FF",
           "#FECB52"
          ],
          "font": {
           "color": "#2a3f5f"
          },
          "geo": {
           "bgcolor": "white",
           "lakecolor": "white",
           "landcolor": "#E5ECF6",
           "showlakes": true,
           "showland": true,
           "subunitcolor": "white"
          },
          "hoverlabel": {
           "align": "left"
          },
          "hovermode": "closest",
          "mapbox": {
           "style": "light"
          },
          "paper_bgcolor": "white",
          "plot_bgcolor": "#E5ECF6",
          "polar": {
           "angularaxis": {
            "gridcolor": "white",
            "linecolor": "white",
            "ticks": ""
           },
           "bgcolor": "#E5ECF6",
           "radialaxis": {
            "gridcolor": "white",
            "linecolor": "white",
            "ticks": ""
           }
          },
          "scene": {
           "xaxis": {
            "backgroundcolor": "#E5ECF6",
            "gridcolor": "white",
            "gridwidth": 2,
            "linecolor": "white",
            "showbackground": true,
            "ticks": "",
            "zerolinecolor": "white"
           },
           "yaxis": {
            "backgroundcolor": "#E5ECF6",
            "gridcolor": "white",
            "gridwidth": 2,
            "linecolor": "white",
            "showbackground": true,
            "ticks": "",
            "zerolinecolor": "white"
           },
           "zaxis": {
            "backgroundcolor": "#E5ECF6",
            "gridcolor": "white",
            "gridwidth": 2,
            "linecolor": "white",
            "showbackground": true,
            "ticks": "",
            "zerolinecolor": "white"
           }
          },
          "shapedefaults": {
           "line": {
            "color": "#2a3f5f"
           }
          },
          "ternary": {
           "aaxis": {
            "gridcolor": "white",
            "linecolor": "white",
            "ticks": ""
           },
           "baxis": {
            "gridcolor": "white",
            "linecolor": "white",
            "ticks": ""
           },
           "bgcolor": "#E5ECF6",
           "caxis": {
            "gridcolor": "white",
            "linecolor": "white",
            "ticks": ""
           }
          },
          "title": {
           "x": 0.05
          },
          "xaxis": {
           "automargin": true,
           "gridcolor": "white",
           "linecolor": "white",
           "ticks": "",
           "title": {
            "standoff": 15
           },
           "zerolinecolor": "white",
           "zerolinewidth": 2
          },
          "yaxis": {
           "automargin": true,
           "gridcolor": "white",
           "linecolor": "white",
           "ticks": "",
           "title": {
            "standoff": 15
           },
           "zerolinecolor": "white",
           "zerolinewidth": 2
          }
         }
        },
        "title": {
         "text": "Monthly Aggregated Waterfall Chart"
        },
        "waterfallgap": 0.1,
        "width": 2200,
        "xaxis": {
         "rangeselector": {
          "buttons": [
           {
            "count": 1,
            "label": "1y",
            "step": "year",
            "stepmode": "backward"
           },
           {
            "count": 2,
            "label": "2y",
            "step": "year",
            "stepmode": "backward"
           },
           {
            "step": "all"
           }
          ]
         },
         "rangeslider": {
          "visible": true
         }
        },
        "yaxis": {
         "range": [
          -100,
          11807.01
         ],
         "tickformat": ",.0f",
         "tickprefix": "£"
        }
       }
      }
     },
     "metadata": {},
     "output_type": "display_data"
    }
   ],
   "source": [
    "## Create the Waterfall Chart\n",
    "fig_0 = go.Figure(go.Waterfall(\n",
    "    x=df_waterfall_monthly['month'],\n",
    "    y=df_waterfall_monthly['amount'],\n",
    "    textposition='outside',\n",
    "    text=df_waterfall_monthly['amount'],\n",
    "    connector={'line':{'color':'rgba(63, 63, 63, 0)'}},\n",
    "))\n",
    "# Update layout with various tweaks\n",
    "fig_0.update_layout(\n",
    "    title='Monthly Aggregated Waterfall Chart',\n",
    "    waterfallgap=0.1,\n",
    "    # showlegend=True,\n",
    "    # Add shading\n",
    "    shapes=add_shapes,\n",
    "    width=width_,\n",
    "    height=height_,\n",
    "    yaxis_tickprefix = '£',\n",
    "    yaxis_tickformat = ',.0f',\n",
    "    # Default view to last 1y with interactive slider\n",
    "    xaxis=dict(\n",
    "        rangeselector=dict(\n",
    "            buttons=list([\n",
    "                dict(count=1, label='1y', step='year', stepmode='backward'),\n",
    "                dict(count=2, label='2y', step='year', stepmode='backward'),\n",
    "                dict(step='all')\n",
    "            ])\n",
    "            \n",
    "        ),\n",
    "        rangeslider=dict(visible=True)\n",
    "    ),\n",
    "    # Set default axis limits\n",
    "    yaxis=dict(\n",
    "        range=[-100, df_waterfall_monthly['amount'].cumsum().max() + 1000]\n",
    "    ),\n",
    ")\n",
    "fig_0.show()"
   ]
  },
  {
   "cell_type": "markdown",
   "metadata": {},
   "source": [
    "## Drill down"
   ]
  },
  {
   "cell_type": "code",
   "execution_count": 126,
   "metadata": {},
   "outputs": [
    {
     "name": "stderr",
     "output_type": "stream",
     "text": [
      "/var/folders/r9/0bsf6g_s5njccgsljtpzdm3m0000gn/T/ipykernel_29690/3649220282.py:45: SettingWithCopyWarning:\n",
      "\n",
      "\n",
      "A value is trying to be set on a copy of a slice from a DataFrame.\n",
      "Try using .loc[row_indexer,col_indexer] = value instead\n",
      "\n",
      "See the caveats in the documentation: https://pandas.pydata.org/pandas-docs/stable/user_guide/indexing.html#returning-a-view-versus-a-copy\n",
      "\n"
     ]
    }
   ],
   "source": [
    "## Drill down into categories\n",
    "excl_cats = ['bills', 'income']\n",
    "df_post_pan_0 = df_transactions_base[\n",
    "    (df_transactions_base['tr_datetime'] > '2023-11-01')\n",
    "    # & (df_transactions_base['tr_datetime'] < '2022-12-31')\n",
    "    & ~df_transactions_base['category'].isin(excl_cats)\n",
    "    & df_transactions_base['amount'] > 0\n",
    "]\n",
    "# Create more-useful categories for top-spending items. Dict will take names and assign categories to those entries\n",
    "category_classification = {\n",
    "    'atm' : ['atm'],\n",
    "    'bills' : ['karim mwebe', 'dfa passport office', 'compare the man & van', 'enfield removals'],\n",
    "    'city travel' : ['transport for london', 'tfl cycle hire', 'uber'],\n",
    "    # 'shopping' : ['h&m'],\n",
    "    'drinking' : ['patch st paul', 'the raven', 'sugar cane island ltd', 'the asparagus', 'old street brewery', 'rising sun',\n",
    "                  'infernos', 'the swan', 'wetherspoon', 'the experiment', 'the old school yard', 'lost society', 'battersea brewery',\n",
    "                  'the mason\\'s arms', 'prince of wales', 'artillery arms - ec1', 'tremenheere', 'dog & fox'],\n",
    "    'eating out' : ['flavour of naples', 'windmill clapham', 'canteen', 'mcdonald\\'s'],\n",
    "    'events' : ['dice', 'ep x trailpurs', 'the top secret comedy club', 'let\\'s do this', 'electric brixton', 'the cloak and dagger',\n",
    "                'peckham audio', 'the four thieves', 'looking glass cocktail club', 'jaguar shoes collective', 'eventim uk',\n",
    "                'todaytix', 'colours hoxton', 'tdr productions lt', 'paris versailles', 'ticketswap', 'rumours', 'hoxton cabin'],\n",
    "    'groceries' : ['majorelle'],\n",
    "    'health' : ['specsavers', 'oticaboavista', 'drogaria vidifarma ltd'],\n",
    "    'holidays' : ['aj', 'booking.com'],\n",
    "    'friends_fam' : ['christopher sargent', 'susan sargent', 'charles roberts', 'jonathan peel', 'fred varley', 'cristian banks',\n",
    "                     'luke parker', 'joseph purle', 'ross macdonald', 'thomas gruhl'],\n",
    "    'online shopping' : ['amazon', 'ebay'],\n",
    "    'perks' : ['the gym', 'better leisure gym'],\n",
    "    'personal care' : ['rush-tower bridge'],\n",
    "    'photo' : ['perfect pictures', 'the range penzance'],\n",
    "    'sport' : ['londonclimbingcentres', 'substation', 'vauxwall east', 'vauxwall west', 'castle climbing ce'],\n",
    "    'sport equipment' : ['decathlon', 'go beyond sport', 'nike', 'cotswold outdoor', 'millets', 'charles birch limited',\n",
    "                         'mountain warehouse', 'sp bbco headwear'],\n",
    "    'subscriptions' : ['spotify', 'adobe', 'adobe creative cloud', 'google play', 'google'],\n",
    "}\n",
    "excl_transactions = {\n",
    "    'tx_0000AhkOSVgln300aORYUD' : 'marine discovery p',\n",
    "}\n",
    "df_post_pan_0 = assign_categories(df_post_pan_0, category_classification)\n",
    "# df_post_pan_0 = create_month_col(df_post_pan_0)\n",
    "# resample_datetime(df_post_pan_0)"
   ]
  },
  {
   "cell_type": "code",
   "execution_count": 127,
   "metadata": {},
   "outputs": [
    {
     "data": {
      "text/html": [
       "<div>\n",
       "<style scoped>\n",
       "    .dataframe tbody tr th:only-of-type {\n",
       "        vertical-align: middle;\n",
       "    }\n",
       "\n",
       "    .dataframe tbody tr th {\n",
       "        vertical-align: top;\n",
       "    }\n",
       "\n",
       "    .dataframe thead th {\n",
       "        text-align: right;\n",
       "    }\n",
       "</style>\n",
       "<table border=\"1\" class=\"dataframe\">\n",
       "  <thead>\n",
       "    <tr style=\"text-align: right;\">\n",
       "      <th></th>\n",
       "      <th>name</th>\n",
       "      <th>category_m</th>\n",
       "      <th>0</th>\n",
       "    </tr>\n",
       "  </thead>\n",
       "  <tbody>\n",
       "    <tr>\n",
       "      <th>134</th>\n",
       "      <td>tap</td>\n",
       "      <td>holidays</td>\n",
       "      <td>-474.09</td>\n",
       "    </tr>\n",
       "    <tr>\n",
       "      <th>8</th>\n",
       "      <td>atm</td>\n",
       "      <td>atm</td>\n",
       "      <td>-416.87</td>\n",
       "    </tr>\n",
       "    <tr>\n",
       "      <th>167</th>\n",
       "      <td>yacht inn</td>\n",
       "      <td>entertainment</td>\n",
       "      <td>-379.37</td>\n",
       "    </tr>\n",
       "    <tr>\n",
       "      <th>40</th>\n",
       "      <td>ebay</td>\n",
       "      <td>online shopping</td>\n",
       "      <td>-211.38</td>\n",
       "    </tr>\n",
       "    <tr>\n",
       "      <th>90</th>\n",
       "      <td>mytrip 1025216549</td>\n",
       "      <td>holidays</td>\n",
       "      <td>-207.99</td>\n",
       "    </tr>\n",
       "    <tr>\n",
       "      <th>5</th>\n",
       "      <td>amazon</td>\n",
       "      <td>online shopping</td>\n",
       "      <td>-192.96</td>\n",
       "    </tr>\n",
       "    <tr>\n",
       "      <th>152</th>\n",
       "      <td>trainline</td>\n",
       "      <td>transport</td>\n",
       "      <td>-158.67</td>\n",
       "    </tr>\n",
       "    <tr>\n",
       "      <th>135</th>\n",
       "      <td>tesco</td>\n",
       "      <td>groceries</td>\n",
       "      <td>-137.07</td>\n",
       "    </tr>\n",
       "    <tr>\n",
       "      <th>91</th>\n",
       "      <td>national express</td>\n",
       "      <td>transport</td>\n",
       "      <td>-129.40</td>\n",
       "    </tr>\n",
       "    <tr>\n",
       "      <th>78</th>\n",
       "      <td>marine discovery p</td>\n",
       "      <td>holidays</td>\n",
       "      <td>-120.84</td>\n",
       "    </tr>\n",
       "    <tr>\n",
       "      <th>153</th>\n",
       "      <td>transport for london</td>\n",
       "      <td>city travel</td>\n",
       "      <td>-115.05</td>\n",
       "    </tr>\n",
       "    <tr>\n",
       "      <th>4</th>\n",
       "      <td>aldi</td>\n",
       "      <td>groceries</td>\n",
       "      <td>-103.12</td>\n",
       "    </tr>\n",
       "    <tr>\n",
       "      <th>141</th>\n",
       "      <td>the honey pot</td>\n",
       "      <td>eating out</td>\n",
       "      <td>-93.45</td>\n",
       "    </tr>\n",
       "    <tr>\n",
       "      <th>92</th>\n",
       "      <td>oticaboavista</td>\n",
       "      <td>health</td>\n",
       "      <td>-91.55</td>\n",
       "    </tr>\n",
       "    <tr>\n",
       "      <th>81</th>\n",
       "      <td>mercadinho pai e filh</td>\n",
       "      <td>groceries</td>\n",
       "      <td>-84.53</td>\n",
       "    </tr>\n",
       "    <tr>\n",
       "      <th>122</th>\n",
       "      <td>sainsbury’s</td>\n",
       "      <td>groceries</td>\n",
       "      <td>-76.36</td>\n",
       "    </tr>\n",
       "    <tr>\n",
       "      <th>34</th>\n",
       "      <td>decathlon</td>\n",
       "      <td>sport equipment</td>\n",
       "      <td>-67.97</td>\n",
       "    </tr>\n",
       "    <tr>\n",
       "      <th>136</th>\n",
       "      <td>tfl cycle hire</td>\n",
       "      <td>city travel</td>\n",
       "      <td>-60.15</td>\n",
       "    </tr>\n",
       "    <tr>\n",
       "      <th>3</th>\n",
       "      <td>adobe</td>\n",
       "      <td>subscriptions</td>\n",
       "      <td>-59.91</td>\n",
       "    </tr>\n",
       "    <tr>\n",
       "      <th>41</th>\n",
       "      <td>elif food centre</td>\n",
       "      <td>general</td>\n",
       "      <td>-56.80</td>\n",
       "    </tr>\n",
       "    <tr>\n",
       "      <th>55</th>\n",
       "      <td>google play</td>\n",
       "      <td>subscriptions</td>\n",
       "      <td>-53.32</td>\n",
       "    </tr>\n",
       "    <tr>\n",
       "      <th>121</th>\n",
       "      <td>ryman</td>\n",
       "      <td>shopping</td>\n",
       "      <td>-47.38</td>\n",
       "    </tr>\n",
       "    <tr>\n",
       "      <th>168</th>\n",
       "      <td>zelal supermarket</td>\n",
       "      <td>groceries</td>\n",
       "      <td>-38.87</td>\n",
       "    </tr>\n",
       "    <tr>\n",
       "      <th>83</th>\n",
       "      <td>mini market da vila v</td>\n",
       "      <td>groceries</td>\n",
       "      <td>-38.48</td>\n",
       "    </tr>\n",
       "    <tr>\n",
       "      <th>21</th>\n",
       "      <td>canteen</td>\n",
       "      <td>eating out</td>\n",
       "      <td>-38.20</td>\n",
       "    </tr>\n",
       "    <tr>\n",
       "      <th>106</th>\n",
       "      <td>perfect pictures</td>\n",
       "      <td>photo</td>\n",
       "      <td>-36.50</td>\n",
       "    </tr>\n",
       "    <tr>\n",
       "      <th>144</th>\n",
       "      <td>the range penzance</td>\n",
       "      <td>photo</td>\n",
       "      <td>-36.26</td>\n",
       "    </tr>\n",
       "    <tr>\n",
       "      <th>84</th>\n",
       "      <td>mol wex rental</td>\n",
       "      <td>general</td>\n",
       "      <td>-34.32</td>\n",
       "    </tr>\n",
       "    <tr>\n",
       "      <th>54</th>\n",
       "      <td>google</td>\n",
       "      <td>subscriptions</td>\n",
       "      <td>-31.96</td>\n",
       "    </tr>\n",
       "    <tr>\n",
       "      <th>7</th>\n",
       "      <td>artillery arms - ec1</td>\n",
       "      <td>drinking</td>\n",
       "      <td>-31.60</td>\n",
       "    </tr>\n",
       "    <tr>\n",
       "      <th>120</th>\n",
       "      <td>rumours</td>\n",
       "      <td>events</td>\n",
       "      <td>-30.00</td>\n",
       "    </tr>\n",
       "    <tr>\n",
       "      <th>115</th>\n",
       "      <td>railcard</td>\n",
       "      <td>transport</td>\n",
       "      <td>-30.00</td>\n",
       "    </tr>\n",
       "    <tr>\n",
       "      <th>79</th>\n",
       "      <td>mcdonald’s</td>\n",
       "      <td>holidays</td>\n",
       "      <td>-29.68</td>\n",
       "    </tr>\n",
       "    <tr>\n",
       "      <th>154</th>\n",
       "      <td>tremenheere</td>\n",
       "      <td>drinking</td>\n",
       "      <td>-27.55</td>\n",
       "    </tr>\n",
       "    <tr>\n",
       "      <th>116</th>\n",
       "      <td>resident advisor</td>\n",
       "      <td>entertainment</td>\n",
       "      <td>-27.50</td>\n",
       "    </tr>\n",
       "    <tr>\n",
       "      <th>74</th>\n",
       "      <td>lidl</td>\n",
       "      <td>groceries</td>\n",
       "      <td>-26.21</td>\n",
       "    </tr>\n",
       "    <tr>\n",
       "      <th>126</th>\n",
       "      <td>shop and go old street</td>\n",
       "      <td>groceries</td>\n",
       "      <td>-24.63</td>\n",
       "    </tr>\n",
       "    <tr>\n",
       "      <th>128</th>\n",
       "      <td>spotify</td>\n",
       "      <td>subscriptions</td>\n",
       "      <td>-23.98</td>\n",
       "    </tr>\n",
       "    <tr>\n",
       "      <th>147</th>\n",
       "      <td>tonkotsu clapham</td>\n",
       "      <td>eating out</td>\n",
       "      <td>-23.51</td>\n",
       "    </tr>\n",
       "    <tr>\n",
       "      <th>69</th>\n",
       "      <td>jims</td>\n",
       "      <td>entertainment</td>\n",
       "      <td>-21.90</td>\n",
       "    </tr>\n",
       "    <tr>\n",
       "      <th>125</th>\n",
       "      <td>sheba</td>\n",
       "      <td>eating out</td>\n",
       "      <td>-19.87</td>\n",
       "    </tr>\n",
       "    <tr>\n",
       "      <th>44</th>\n",
       "      <td>fabletics</td>\n",
       "      <td>shopping</td>\n",
       "      <td>-19.00</td>\n",
       "    </tr>\n",
       "    <tr>\n",
       "      <th>64</th>\n",
       "      <td>hoxton cabin</td>\n",
       "      <td>events</td>\n",
       "      <td>-18.46</td>\n",
       "    </tr>\n",
       "    <tr>\n",
       "      <th>37</th>\n",
       "      <td>dog &amp; fox</td>\n",
       "      <td>drinking</td>\n",
       "      <td>-18.30</td>\n",
       "    </tr>\n",
       "    <tr>\n",
       "      <th>38</th>\n",
       "      <td>drogaria vidifarma ltd</td>\n",
       "      <td>health</td>\n",
       "      <td>-17.96</td>\n",
       "    </tr>\n",
       "    <tr>\n",
       "      <th>46</th>\n",
       "      <td>fcdo london</td>\n",
       "      <td>eating out</td>\n",
       "      <td>-17.45</td>\n",
       "    </tr>\n",
       "    <tr>\n",
       "      <th>36</th>\n",
       "      <td>do not disturb (dnd bar)</td>\n",
       "      <td>holidays</td>\n",
       "      <td>-15.75</td>\n",
       "    </tr>\n",
       "    <tr>\n",
       "      <th>29</th>\n",
       "      <td>costa coffee</td>\n",
       "      <td>eating out</td>\n",
       "      <td>-15.15</td>\n",
       "    </tr>\n",
       "    <tr>\n",
       "      <th>139</th>\n",
       "      <td>the flower house</td>\n",
       "      <td>shopping</td>\n",
       "      <td>-15.00</td>\n",
       "    </tr>\n",
       "    <tr>\n",
       "      <th>130</th>\n",
       "      <td>sumup thehatlondon</td>\n",
       "      <td>general</td>\n",
       "      <td>-15.00</td>\n",
       "    </tr>\n",
       "    <tr>\n",
       "      <th>39</th>\n",
       "      <td>drumsheds</td>\n",
       "      <td>entertainment</td>\n",
       "      <td>-15.00</td>\n",
       "    </tr>\n",
       "    <tr>\n",
       "      <th>133</th>\n",
       "      <td>tabacaria africana</td>\n",
       "      <td>shopping</td>\n",
       "      <td>-15.00</td>\n",
       "    </tr>\n",
       "    <tr>\n",
       "      <th>48</th>\n",
       "      <td>founder's arms</td>\n",
       "      <td>eating out</td>\n",
       "      <td>-14.35</td>\n",
       "    </tr>\n",
       "    <tr>\n",
       "      <th>172</th>\n",
       "      <td>zona sul fl 15</td>\n",
       "      <td>groceries</td>\n",
       "      <td>-13.70</td>\n",
       "    </tr>\n",
       "    <tr>\n",
       "      <th>157</th>\n",
       "      <td>vid doces</td>\n",
       "      <td>groceries</td>\n",
       "      <td>-13.58</td>\n",
       "    </tr>\n",
       "    <tr>\n",
       "      <th>53</th>\n",
       "      <td>george and vulture</td>\n",
       "      <td>eating out</td>\n",
       "      <td>-13.35</td>\n",
       "    </tr>\n",
       "    <tr>\n",
       "      <th>11</th>\n",
       "      <td>bar do mineiro</td>\n",
       "      <td>eating out</td>\n",
       "      <td>-13.32</td>\n",
       "    </tr>\n",
       "    <tr>\n",
       "      <th>17</th>\n",
       "      <td>boots</td>\n",
       "      <td>personal care</td>\n",
       "      <td>-13.05</td>\n",
       "    </tr>\n",
       "    <tr>\n",
       "      <th>18</th>\n",
       "      <td>british film institute</td>\n",
       "      <td>entertainment</td>\n",
       "      <td>-13.00</td>\n",
       "    </tr>\n",
       "    <tr>\n",
       "      <th>104</th>\n",
       "      <td>payless food &amp; wine</td>\n",
       "      <td>groceries</td>\n",
       "      <td>-12.78</td>\n",
       "    </tr>\n",
       "  </tbody>\n",
       "</table>\n",
       "</div>"
      ],
      "text/plain": [
       "                         name       category_m       0\n",
       "134                       tap         holidays -474.09\n",
       "8                         atm              atm -416.87\n",
       "167                 yacht inn    entertainment -379.37\n",
       "40                       ebay  online shopping -211.38\n",
       "90          mytrip 1025216549         holidays -207.99\n",
       "5                      amazon  online shopping -192.96\n",
       "152                 trainline        transport -158.67\n",
       "135                     tesco        groceries -137.07\n",
       "91           national express        transport -129.40\n",
       "78         marine discovery p         holidays -120.84\n",
       "153      transport for london      city travel -115.05\n",
       "4                        aldi        groceries -103.12\n",
       "141             the honey pot       eating out  -93.45\n",
       "92              oticaboavista           health  -91.55\n",
       "81      mercadinho pai e filh        groceries  -84.53\n",
       "122               sainsbury’s        groceries  -76.36\n",
       "34                  decathlon  sport equipment  -67.97\n",
       "136            tfl cycle hire      city travel  -60.15\n",
       "3                       adobe    subscriptions  -59.91\n",
       "41           elif food centre          general  -56.80\n",
       "55                google play    subscriptions  -53.32\n",
       "121                     ryman         shopping  -47.38\n",
       "168         zelal supermarket        groceries  -38.87\n",
       "83      mini market da vila v        groceries  -38.48\n",
       "21                    canteen       eating out  -38.20\n",
       "106          perfect pictures            photo  -36.50\n",
       "144        the range penzance            photo  -36.26\n",
       "84             mol wex rental          general  -34.32\n",
       "54                     google    subscriptions  -31.96\n",
       "7        artillery arms - ec1         drinking  -31.60\n",
       "120                   rumours           events  -30.00\n",
       "115                  railcard        transport  -30.00\n",
       "79                 mcdonald’s         holidays  -29.68\n",
       "154               tremenheere         drinking  -27.55\n",
       "116          resident advisor    entertainment  -27.50\n",
       "74                       lidl        groceries  -26.21\n",
       "126    shop and go old street        groceries  -24.63\n",
       "128                   spotify    subscriptions  -23.98\n",
       "147          tonkotsu clapham       eating out  -23.51\n",
       "69                       jims    entertainment  -21.90\n",
       "125                     sheba       eating out  -19.87\n",
       "44                  fabletics         shopping  -19.00\n",
       "64               hoxton cabin           events  -18.46\n",
       "37                  dog & fox         drinking  -18.30\n",
       "38     drogaria vidifarma ltd           health  -17.96\n",
       "46                fcdo london       eating out  -17.45\n",
       "36   do not disturb (dnd bar)         holidays  -15.75\n",
       "29               costa coffee       eating out  -15.15\n",
       "139          the flower house         shopping  -15.00\n",
       "130        sumup thehatlondon          general  -15.00\n",
       "39                  drumsheds    entertainment  -15.00\n",
       "133        tabacaria africana         shopping  -15.00\n",
       "48             founder's arms       eating out  -14.35\n",
       "172            zona sul fl 15        groceries  -13.70\n",
       "157                 vid doces        groceries  -13.58\n",
       "53         george and vulture       eating out  -13.35\n",
       "11             bar do mineiro       eating out  -13.32\n",
       "17                      boots    personal care  -13.05\n",
       "18     british film institute    entertainment  -13.00\n",
       "104       payless food & wine        groceries  -12.78"
      ]
     },
     "execution_count": 127,
     "metadata": {},
     "output_type": "execute_result"
    }
   ],
   "source": [
    "df_post_pan_ = df_post_pan_0[['name', 'amount', 'category_m']].groupby(['name', 'category_m']).sum().reset_index()\n",
    "df_post_pan_ = df_post_pan_.pivot(\n",
    "    index=['name', 'category_m'],\n",
    "    columns=[],\n",
    "    values='amount'\n",
    ").reset_index().sort_values(0)\n",
    "df_post_pan_.head(60)"
   ]
  },
  {
   "cell_type": "code",
   "execution_count": 128,
   "metadata": {},
   "outputs": [
    {
     "name": "stderr",
     "output_type": "stream",
     "text": [
      "/var/folders/r9/0bsf6g_s5njccgsljtpzdm3m0000gn/T/ipykernel_29690/3649220282.py:6: SettingWithCopyWarning:\n",
      "\n",
      "\n",
      "A value is trying to be set on a copy of a slice from a DataFrame.\n",
      "Try using .loc[row_indexer,col_indexer] = value instead\n",
      "\n",
      "See the caveats in the documentation: https://pandas.pydata.org/pandas-docs/stable/user_guide/indexing.html#returning-a-view-versus-a-copy\n",
      "\n",
      "/var/folders/r9/0bsf6g_s5njccgsljtpzdm3m0000gn/T/ipykernel_29690/3649220282.py:8: SettingWithCopyWarning:\n",
      "\n",
      "\n",
      "A value is trying to be set on a copy of a slice from a DataFrame.\n",
      "Try using .loc[row_indexer,col_indexer] = value instead\n",
      "\n",
      "See the caveats in the documentation: https://pandas.pydata.org/pandas-docs/stable/user_guide/indexing.html#returning-a-view-versus-a-copy\n",
      "\n"
     ]
    },
    {
     "data": {
      "text/html": [
       "<div>\n",
       "<style scoped>\n",
       "    .dataframe tbody tr th:only-of-type {\n",
       "        vertical-align: middle;\n",
       "    }\n",
       "\n",
       "    .dataframe tbody tr th {\n",
       "        vertical-align: top;\n",
       "    }\n",
       "\n",
       "    .dataframe thead th {\n",
       "        text-align: right;\n",
       "    }\n",
       "</style>\n",
       "<table border=\"1\" class=\"dataframe\">\n",
       "  <thead>\n",
       "    <tr style=\"text-align: right;\">\n",
       "      <th></th>\n",
       "      <th>transaction_id</th>\n",
       "      <th>type</th>\n",
       "      <th>name</th>\n",
       "      <th>category</th>\n",
       "      <th>amount</th>\n",
       "      <th>local_amount</th>\n",
       "      <th>local_currency</th>\n",
       "      <th>description</th>\n",
       "      <th>money_out</th>\n",
       "      <th>money_in</th>\n",
       "      <th>tr_datetime</th>\n",
       "      <th>balance</th>\n",
       "      <th>category_m</th>\n",
       "      <th>month</th>\n",
       "    </tr>\n",
       "  </thead>\n",
       "  <tbody>\n",
       "    <tr>\n",
       "      <th>5725</th>\n",
       "      <td>tx_0000AbLUZoS3tSZaXdr8yn</td>\n",
       "      <td>card payment</td>\n",
       "      <td>vid doces</td>\n",
       "      <td>groceries</td>\n",
       "      <td>-3.71</td>\n",
       "      <td>-22.50</td>\n",
       "      <td>brl</td>\n",
       "      <td>vid doces              rio de janeir bra</td>\n",
       "      <td>-3.71</td>\n",
       "      <td>NaN</td>\n",
       "      <td>2023-11-01 00:22:04</td>\n",
       "      <td>997.93</td>\n",
       "      <td>groceries</td>\n",
       "      <td>2023-11</td>\n",
       "    </tr>\n",
       "    <tr>\n",
       "      <th>5729</th>\n",
       "      <td>tx_0000AbOpTT9spT3ccLoKFH</td>\n",
       "      <td>card payment</td>\n",
       "      <td>tap</td>\n",
       "      <td>holidays</td>\n",
       "      <td>-474.09</td>\n",
       "      <td>-2811.93</td>\n",
       "      <td>brl</td>\n",
       "      <td>tap                    madrid        bra</td>\n",
       "      <td>-474.09</td>\n",
       "      <td>NaN</td>\n",
       "      <td>2023-11-02 15:00:22</td>\n",
       "      <td>517.84</td>\n",
       "      <td>holidays</td>\n",
       "      <td>2023-11</td>\n",
       "    </tr>\n",
       "    <tr>\n",
       "      <th>5732</th>\n",
       "      <td>tx_0000AbPAws3JS139i70hdq</td>\n",
       "      <td>card payment</td>\n",
       "      <td>cat s kiosk lanches e</td>\n",
       "      <td>shopping</td>\n",
       "      <td>-1.65</td>\n",
       "      <td>-10.00</td>\n",
       "      <td>brl</td>\n",
       "      <td>cat s kiosk lanches e  rio de janeir bra</td>\n",
       "      <td>-1.65</td>\n",
       "      <td>NaN</td>\n",
       "      <td>2023-11-02 19:00:59</td>\n",
       "      <td>516.19</td>\n",
       "      <td>shopping</td>\n",
       "      <td>2023-11</td>\n",
       "    </tr>\n",
       "    <tr>\n",
       "      <th>5733</th>\n",
       "      <td>tx_0000AbPO9cZNcphOifGPZJ</td>\n",
       "      <td>card payment</td>\n",
       "      <td>atm</td>\n",
       "      <td>entertainment</td>\n",
       "      <td>-35.74</td>\n",
       "      <td>-214.00</td>\n",
       "      <td>brl</td>\n",
       "      <td>3019803                io de janeirr bra</td>\n",
       "      <td>-35.74</td>\n",
       "      <td>NaN</td>\n",
       "      <td>2023-11-02 21:28:57</td>\n",
       "      <td>480.45</td>\n",
       "      <td>atm</td>\n",
       "      <td>2023-11</td>\n",
       "    </tr>\n",
       "    <tr>\n",
       "      <th>5734</th>\n",
       "      <td>tx_0000AbPOV6Ku9KOpJwEoVe</td>\n",
       "      <td>card payment</td>\n",
       "      <td>drogaria vidifarma ltd</td>\n",
       "      <td>general</td>\n",
       "      <td>-2.08</td>\n",
       "      <td>-12.46</td>\n",
       "      <td>brl</td>\n",
       "      <td>drogaria vidifarma ltd rio de janeir bra</td>\n",
       "      <td>-2.08</td>\n",
       "      <td>NaN</td>\n",
       "      <td>2023-11-02 21:32:50</td>\n",
       "      <td>478.37</td>\n",
       "      <td>health</td>\n",
       "      <td>2023-11</td>\n",
       "    </tr>\n",
       "    <tr>\n",
       "      <th>...</th>\n",
       "      <td>...</td>\n",
       "      <td>...</td>\n",
       "      <td>...</td>\n",
       "      <td>...</td>\n",
       "      <td>...</td>\n",
       "      <td>...</td>\n",
       "      <td>...</td>\n",
       "      <td>...</td>\n",
       "      <td>...</td>\n",
       "      <td>...</td>\n",
       "      <td>...</td>\n",
       "      <td>...</td>\n",
       "      <td>...</td>\n",
       "      <td>...</td>\n",
       "    </tr>\n",
       "    <tr>\n",
       "      <th>6334</th>\n",
       "      <td>tx_0000AkX1Gtfg76b4LFgoFO</td>\n",
       "      <td>card payment</td>\n",
       "      <td>beigel bake</td>\n",
       "      <td>entertainment</td>\n",
       "      <td>-6.90</td>\n",
       "      <td>-6.90</td>\n",
       "      <td>gbp</td>\n",
       "      <td>beigel bake            london        gbr</td>\n",
       "      <td>-6.90</td>\n",
       "      <td>NaN</td>\n",
       "      <td>2024-08-01 18:39:09</td>\n",
       "      <td>3420.99</td>\n",
       "      <td>entertainment</td>\n",
       "      <td>2024-08</td>\n",
       "    </tr>\n",
       "    <tr>\n",
       "      <th>6335</th>\n",
       "      <td>tx_0000AkXZUKU58E0sGOPUHr</td>\n",
       "      <td>card payment</td>\n",
       "      <td>mol wex rental</td>\n",
       "      <td>general</td>\n",
       "      <td>200.00</td>\n",
       "      <td>200.00</td>\n",
       "      <td>gbp</td>\n",
       "      <td>mol*wex rental        \\fixation\\442073835127 \\...</td>\n",
       "      <td>NaN</td>\n",
       "      <td>200.0</td>\n",
       "      <td>2024-08-02 01:02:33</td>\n",
       "      <td>3620.99</td>\n",
       "      <td>general</td>\n",
       "      <td>2024-08</td>\n",
       "    </tr>\n",
       "    <tr>\n",
       "      <th>6337</th>\n",
       "      <td>tx_0000AkYIUxxqqDoCBkV4E5</td>\n",
       "      <td>card payment</td>\n",
       "      <td>photobook ltd</td>\n",
       "      <td>eating out</td>\n",
       "      <td>-4.00</td>\n",
       "      <td>-4.00</td>\n",
       "      <td>gbp</td>\n",
       "      <td>zettle_*photobook ltd  london        gbr</td>\n",
       "      <td>-4.00</td>\n",
       "      <td>NaN</td>\n",
       "      <td>2024-08-02 09:26:53</td>\n",
       "      <td>3596.99</td>\n",
       "      <td>eating out</td>\n",
       "      <td>2024-08</td>\n",
       "    </tr>\n",
       "    <tr>\n",
       "      <th>6339</th>\n",
       "      <td>tx_0000AkYWKMv37OTHjv06Xy</td>\n",
       "      <td>card payment</td>\n",
       "      <td>beigel shop</td>\n",
       "      <td>groceries</td>\n",
       "      <td>-3.40</td>\n",
       "      <td>-3.40</td>\n",
       "      <td>gbp</td>\n",
       "      <td>beigel shop            london  e1 6  gbr</td>\n",
       "      <td>-3.40</td>\n",
       "      <td>NaN</td>\n",
       "      <td>2024-08-02 12:01:51</td>\n",
       "      <td>3633.59</td>\n",
       "      <td>groceries</td>\n",
       "      <td>2024-08</td>\n",
       "    </tr>\n",
       "    <tr>\n",
       "      <th>6340</th>\n",
       "      <td>tx_0000AkZ0RfO3qoCogLrxHF</td>\n",
       "      <td>card payment</td>\n",
       "      <td>zelal supermarket</td>\n",
       "      <td>groceries</td>\n",
       "      <td>-5.99</td>\n",
       "      <td>-5.99</td>\n",
       "      <td>gbp</td>\n",
       "      <td>zelal supermarket      london        gbr</td>\n",
       "      <td>-5.99</td>\n",
       "      <td>NaN</td>\n",
       "      <td>2024-08-02 17:39:19</td>\n",
       "      <td>3627.60</td>\n",
       "      <td>groceries</td>\n",
       "      <td>2024-08</td>\n",
       "    </tr>\n",
       "  </tbody>\n",
       "</table>\n",
       "<p>518 rows × 14 columns</p>\n",
       "</div>"
      ],
      "text/plain": [
       "                 transaction_id          type                    name       category  amount  local_amount local_currency   \n",
       "5725  tx_0000AbLUZoS3tSZaXdr8yn  card payment               vid doces      groceries   -3.71        -22.50            brl  \\\n",
       "5729  tx_0000AbOpTT9spT3ccLoKFH  card payment                     tap       holidays -474.09      -2811.93            brl   \n",
       "5732  tx_0000AbPAws3JS139i70hdq  card payment   cat s kiosk lanches e       shopping   -1.65        -10.00            brl   \n",
       "5733  tx_0000AbPO9cZNcphOifGPZJ  card payment                     atm  entertainment  -35.74       -214.00            brl   \n",
       "5734  tx_0000AbPOV6Ku9KOpJwEoVe  card payment  drogaria vidifarma ltd        general   -2.08        -12.46            brl   \n",
       "...                         ...           ...                     ...            ...     ...           ...            ...   \n",
       "6334  tx_0000AkX1Gtfg76b4LFgoFO  card payment             beigel bake  entertainment   -6.90         -6.90            gbp   \n",
       "6335  tx_0000AkXZUKU58E0sGOPUHr  card payment          mol wex rental        general  200.00        200.00            gbp   \n",
       "6337  tx_0000AkYIUxxqqDoCBkV4E5  card payment           photobook ltd     eating out   -4.00         -4.00            gbp   \n",
       "6339  tx_0000AkYWKMv37OTHjv06Xy  card payment             beigel shop      groceries   -3.40         -3.40            gbp   \n",
       "6340  tx_0000AkZ0RfO3qoCogLrxHF  card payment       zelal supermarket      groceries   -5.99         -5.99            gbp   \n",
       "\n",
       "                                            description  money_out  money_in         tr_datetime  balance     category_m    month  \n",
       "5725           vid doces              rio de janeir bra      -3.71       NaN 2023-11-01 00:22:04   997.93      groceries  2023-11  \n",
       "5729           tap                    madrid        bra    -474.09       NaN 2023-11-02 15:00:22   517.84       holidays  2023-11  \n",
       "5732           cat s kiosk lanches e  rio de janeir bra      -1.65       NaN 2023-11-02 19:00:59   516.19       shopping  2023-11  \n",
       "5733           3019803                io de janeirr bra     -35.74       NaN 2023-11-02 21:28:57   480.45            atm  2023-11  \n",
       "5734           drogaria vidifarma ltd rio de janeir bra      -2.08       NaN 2023-11-02 21:32:50   478.37         health  2023-11  \n",
       "...                                                 ...        ...       ...                 ...      ...            ...      ...  \n",
       "6334           beigel bake            london        gbr      -6.90       NaN 2024-08-01 18:39:09  3420.99  entertainment  2024-08  \n",
       "6335  mol*wex rental        \\fixation\\442073835127 \\...        NaN     200.0 2024-08-02 01:02:33  3620.99        general  2024-08  \n",
       "6337           zettle_*photobook ltd  london        gbr      -4.00       NaN 2024-08-02 09:26:53  3596.99     eating out  2024-08  \n",
       "6339           beigel shop            london  e1 6  gbr      -3.40       NaN 2024-08-02 12:01:51  3633.59      groceries  2024-08  \n",
       "6340           zelal supermarket      london        gbr      -5.99       NaN 2024-08-02 17:39:19  3627.60      groceries  2024-08  \n",
       "\n",
       "[518 rows x 14 columns]"
      ]
     },
     "execution_count": 128,
     "metadata": {},
     "output_type": "execute_result"
    }
   ],
   "source": [
    "create_month_col(df_post_pan_0)"
   ]
  },
  {
   "cell_type": "code",
   "execution_count": 129,
   "metadata": {},
   "outputs": [
    {
     "data": {
      "application/vnd.plotly.v1+json": {
       "config": {
        "plotlyServerURL": "https://plot.ly"
       },
       "data": [
        {
         "name": "groceries",
         "type": "bar",
         "x": [
          "2023-11",
          "2023-12",
          "2024-01",
          "2024-02",
          "2024-03",
          "2024-04",
          "2024-05",
          "2024-06",
          "2024-07",
          "2024-08"
         ],
         "y": [
          201.94,
          60.19,
          10.48,
          6.97,
          50.81,
          13.14,
          3.3,
          181.98,
          181.98,
          9.39
         ]
        },
        {
         "name": "subscriptions",
         "type": "bar",
         "x": [
          "2023-11",
          "2023-12",
          "2024-01",
          "2024-02",
          "2024-03",
          "2024-04",
          "2024-05",
          "2024-06",
          "2024-07",
          "2024-08"
         ],
         "y": [
          7.99,
          7.99,
          7.99,
          7.99,
          7.99,
          43.34,
          17.97,
          27.96,
          39.95,
          null
         ]
        },
        {
         "name": "entertainment",
         "type": "bar",
         "x": [
          "2023-11",
          "2023-12",
          "2024-01",
          "2024-02",
          "2024-03",
          "2024-04",
          "2024-05",
          "2024-06",
          "2024-07",
          "2024-08"
         ],
         "y": [
          18.67,
          2.6,
          5.5,
          null,
          42.12,
          95.22,
          168.7,
          158.22,
          37.5,
          6.9
         ]
        },
        {
         "name": "eating out",
         "type": "bar",
         "x": [
          "2023-11",
          "2023-12",
          "2024-01",
          "2024-02",
          "2024-03",
          "2024-04",
          "2024-05",
          "2024-06",
          "2024-07",
          "2024-08"
         ],
         "y": [
          52.1,
          23.46,
          5.69,
          null,
          82.87,
          66.45,
          49.9,
          54.35,
          100.21,
          4
         ]
        },
        {
         "name": "transport",
         "type": "bar",
         "x": [
          "2023-11",
          "2023-12",
          "2024-01",
          "2024-02",
          "2024-03",
          "2024-04",
          "2024-05",
          "2024-06",
          "2024-07",
          "2024-08"
         ],
         "y": [
          5.779999999999999,
          18.4,
          75.9,
          null,
          103.38000000000001,
          5.8,
          null,
          122.58,
          12,
          null
         ]
        },
        {
         "name": "shopping",
         "type": "bar",
         "x": [
          "2023-11",
          "2023-12",
          "2024-01",
          "2024-02",
          "2024-03",
          "2024-04",
          "2024-05",
          "2024-06",
          "2024-07",
          "2024-08"
         ],
         "y": [
          22.31,
          11.29,
          null,
          6.38,
          41.46,
          null,
          22.55,
          14.99,
          10,
          null
         ]
        },
        {
         "name": "general",
         "type": "bar",
         "x": [
          "2023-11",
          "2023-12",
          "2024-01",
          "2024-02",
          "2024-03",
          "2024-04",
          "2024-05",
          "2024-06",
          "2024-07",
          "2024-08"
         ],
         "y": [
          15.8,
          null,
          null,
          11.48,
          2.15,
          2.35,
          10.54,
          37.88,
          284.99,
          null
         ]
        },
        {
         "name": "online shopping",
         "type": "bar",
         "x": [
          "2023-11",
          "2023-12",
          "2024-01",
          "2024-02",
          "2024-03",
          "2024-04",
          "2024-05",
          "2024-06",
          "2024-07",
          "2024-08"
         ],
         "y": [
          null,
          null,
          null,
          22,
          7.95,
          47.44,
          113.66,
          16.63,
          196.66,
          null
         ]
        },
        {
         "name": "holidays",
         "type": "bar",
         "x": [
          "2023-11",
          "2023-12",
          "2024-01",
          "2024-02",
          "2024-03",
          "2024-04",
          "2024-05",
          "2024-06",
          "2024-07",
          "2024-08"
         ],
         "y": [
          485.91999999999996,
          23.39,
          null,
          null,
          3.69,
          null,
          120.84,
          null,
          230.42000000000002,
          null
         ]
        },
        {
         "name": "city travel",
         "type": "bar",
         "x": [
          "2023-11",
          "2023-12",
          "2024-01",
          "2024-02",
          "2024-03",
          "2024-04",
          "2024-05",
          "2024-06",
          "2024-07",
          "2024-08"
         ],
         "y": [
          null,
          20.6,
          8.8,
          null,
          26.35,
          null,
          null,
          48.5,
          70.94999999999999,
          null
         ]
        },
        {
         "name": "atm",
         "type": "bar",
         "x": [
          "2023-11",
          "2023-12",
          "2024-01",
          "2024-02",
          "2024-03",
          "2024-04",
          "2024-05",
          "2024-06",
          "2024-07",
          "2024-08"
         ],
         "y": [
          139.45,
          57.42,
          null,
          null,
          null,
          40,
          160,
          null,
          20,
          null
         ]
        },
        {
         "name": "photo",
         "type": "bar",
         "x": [
          "2023-11",
          "2023-12",
          "2024-01",
          "2024-02",
          "2024-03",
          "2024-04",
          "2024-05",
          "2024-06",
          "2024-07",
          "2024-08"
         ],
         "y": [
          null,
          null,
          3,
          11.9,
          42.36,
          15.5,
          null,
          null,
          null,
          null
         ]
        },
        {
         "name": "drinking",
         "type": "bar",
         "x": [
          "2023-11",
          "2023-12",
          "2024-01",
          "2024-02",
          "2024-03",
          "2024-04",
          "2024-05",
          "2024-06",
          "2024-07",
          "2024-08"
         ],
         "y": [
          null,
          null,
          null,
          null,
          null,
          15.84,
          8.72,
          9.39,
          43.5,
          null
         ]
        },
        {
         "name": "events",
         "type": "bar",
         "x": [
          "2023-11",
          "2023-12",
          "2024-01",
          "2024-02",
          "2024-03",
          "2024-04",
          "2024-05",
          "2024-06",
          "2024-07",
          "2024-08"
         ],
         "y": [
          null,
          null,
          null,
          null,
          null,
          21.4,
          null,
          14.6,
          12.46,
          null
         ]
        },
        {
         "name": "sport equipment",
         "type": "bar",
         "x": [
          "2023-11",
          "2023-12",
          "2024-01",
          "2024-02",
          "2024-03",
          "2024-04",
          "2024-05",
          "2024-06",
          "2024-07",
          "2024-08"
         ],
         "y": [
          null,
          null,
          null,
          null,
          null,
          null,
          67.97,
          null,
          null,
          null
         ]
        },
        {
         "name": "personal care",
         "type": "bar",
         "x": [
          "2023-11",
          "2023-12",
          "2024-01",
          "2024-02",
          "2024-03",
          "2024-04",
          "2024-05",
          "2024-06",
          "2024-07",
          "2024-08"
         ],
         "y": [
          null,
          null,
          null,
          null,
          13.05,
          null,
          null,
          null,
          null,
          null
         ]
        },
        {
         "name": "health",
         "type": "bar",
         "x": [
          "2023-11",
          "2023-12",
          "2024-01",
          "2024-02",
          "2024-03",
          "2024-04",
          "2024-05",
          "2024-06",
          "2024-07",
          "2024-08"
         ],
         "y": [
          109.50999999999999,
          null,
          null,
          null,
          null,
          null,
          null,
          null,
          null,
          null
         ]
        }
       ],
       "layout": {
        "barmode": "stack",
        "height": 1100,
        "template": {
         "data": {
          "bar": [
           {
            "error_x": {
             "color": "#2a3f5f"
            },
            "error_y": {
             "color": "#2a3f5f"
            },
            "marker": {
             "line": {
              "color": "#E5ECF6",
              "width": 0.5
             },
             "pattern": {
              "fillmode": "overlay",
              "size": 10,
              "solidity": 0.2
             }
            },
            "type": "bar"
           }
          ],
          "barpolar": [
           {
            "marker": {
             "line": {
              "color": "#E5ECF6",
              "width": 0.5
             },
             "pattern": {
              "fillmode": "overlay",
              "size": 10,
              "solidity": 0.2
             }
            },
            "type": "barpolar"
           }
          ],
          "carpet": [
           {
            "aaxis": {
             "endlinecolor": "#2a3f5f",
             "gridcolor": "white",
             "linecolor": "white",
             "minorgridcolor": "white",
             "startlinecolor": "#2a3f5f"
            },
            "baxis": {
             "endlinecolor": "#2a3f5f",
             "gridcolor": "white",
             "linecolor": "white",
             "minorgridcolor": "white",
             "startlinecolor": "#2a3f5f"
            },
            "type": "carpet"
           }
          ],
          "choropleth": [
           {
            "colorbar": {
             "outlinewidth": 0,
             "ticks": ""
            },
            "type": "choropleth"
           }
          ],
          "contour": [
           {
            "colorbar": {
             "outlinewidth": 0,
             "ticks": ""
            },
            "colorscale": [
             [
              0,
              "#0d0887"
             ],
             [
              0.1111111111111111,
              "#46039f"
             ],
             [
              0.2222222222222222,
              "#7201a8"
             ],
             [
              0.3333333333333333,
              "#9c179e"
             ],
             [
              0.4444444444444444,
              "#bd3786"
             ],
             [
              0.5555555555555556,
              "#d8576b"
             ],
             [
              0.6666666666666666,
              "#ed7953"
             ],
             [
              0.7777777777777778,
              "#fb9f3a"
             ],
             [
              0.8888888888888888,
              "#fdca26"
             ],
             [
              1,
              "#f0f921"
             ]
            ],
            "type": "contour"
           }
          ],
          "contourcarpet": [
           {
            "colorbar": {
             "outlinewidth": 0,
             "ticks": ""
            },
            "type": "contourcarpet"
           }
          ],
          "heatmap": [
           {
            "colorbar": {
             "outlinewidth": 0,
             "ticks": ""
            },
            "colorscale": [
             [
              0,
              "#0d0887"
             ],
             [
              0.1111111111111111,
              "#46039f"
             ],
             [
              0.2222222222222222,
              "#7201a8"
             ],
             [
              0.3333333333333333,
              "#9c179e"
             ],
             [
              0.4444444444444444,
              "#bd3786"
             ],
             [
              0.5555555555555556,
              "#d8576b"
             ],
             [
              0.6666666666666666,
              "#ed7953"
             ],
             [
              0.7777777777777778,
              "#fb9f3a"
             ],
             [
              0.8888888888888888,
              "#fdca26"
             ],
             [
              1,
              "#f0f921"
             ]
            ],
            "type": "heatmap"
           }
          ],
          "heatmapgl": [
           {
            "colorbar": {
             "outlinewidth": 0,
             "ticks": ""
            },
            "colorscale": [
             [
              0,
              "#0d0887"
             ],
             [
              0.1111111111111111,
              "#46039f"
             ],
             [
              0.2222222222222222,
              "#7201a8"
             ],
             [
              0.3333333333333333,
              "#9c179e"
             ],
             [
              0.4444444444444444,
              "#bd3786"
             ],
             [
              0.5555555555555556,
              "#d8576b"
             ],
             [
              0.6666666666666666,
              "#ed7953"
             ],
             [
              0.7777777777777778,
              "#fb9f3a"
             ],
             [
              0.8888888888888888,
              "#fdca26"
             ],
             [
              1,
              "#f0f921"
             ]
            ],
            "type": "heatmapgl"
           }
          ],
          "histogram": [
           {
            "marker": {
             "pattern": {
              "fillmode": "overlay",
              "size": 10,
              "solidity": 0.2
             }
            },
            "type": "histogram"
           }
          ],
          "histogram2d": [
           {
            "colorbar": {
             "outlinewidth": 0,
             "ticks": ""
            },
            "colorscale": [
             [
              0,
              "#0d0887"
             ],
             [
              0.1111111111111111,
              "#46039f"
             ],
             [
              0.2222222222222222,
              "#7201a8"
             ],
             [
              0.3333333333333333,
              "#9c179e"
             ],
             [
              0.4444444444444444,
              "#bd3786"
             ],
             [
              0.5555555555555556,
              "#d8576b"
             ],
             [
              0.6666666666666666,
              "#ed7953"
             ],
             [
              0.7777777777777778,
              "#fb9f3a"
             ],
             [
              0.8888888888888888,
              "#fdca26"
             ],
             [
              1,
              "#f0f921"
             ]
            ],
            "type": "histogram2d"
           }
          ],
          "histogram2dcontour": [
           {
            "colorbar": {
             "outlinewidth": 0,
             "ticks": ""
            },
            "colorscale": [
             [
              0,
              "#0d0887"
             ],
             [
              0.1111111111111111,
              "#46039f"
             ],
             [
              0.2222222222222222,
              "#7201a8"
             ],
             [
              0.3333333333333333,
              "#9c179e"
             ],
             [
              0.4444444444444444,
              "#bd3786"
             ],
             [
              0.5555555555555556,
              "#d8576b"
             ],
             [
              0.6666666666666666,
              "#ed7953"
             ],
             [
              0.7777777777777778,
              "#fb9f3a"
             ],
             [
              0.8888888888888888,
              "#fdca26"
             ],
             [
              1,
              "#f0f921"
             ]
            ],
            "type": "histogram2dcontour"
           }
          ],
          "mesh3d": [
           {
            "colorbar": {
             "outlinewidth": 0,
             "ticks": ""
            },
            "type": "mesh3d"
           }
          ],
          "parcoords": [
           {
            "line": {
             "colorbar": {
              "outlinewidth": 0,
              "ticks": ""
             }
            },
            "type": "parcoords"
           }
          ],
          "pie": [
           {
            "automargin": true,
            "type": "pie"
           }
          ],
          "scatter": [
           {
            "fillpattern": {
             "fillmode": "overlay",
             "size": 10,
             "solidity": 0.2
            },
            "type": "scatter"
           }
          ],
          "scatter3d": [
           {
            "line": {
             "colorbar": {
              "outlinewidth": 0,
              "ticks": ""
             }
            },
            "marker": {
             "colorbar": {
              "outlinewidth": 0,
              "ticks": ""
             }
            },
            "type": "scatter3d"
           }
          ],
          "scattercarpet": [
           {
            "marker": {
             "colorbar": {
              "outlinewidth": 0,
              "ticks": ""
             }
            },
            "type": "scattercarpet"
           }
          ],
          "scattergeo": [
           {
            "marker": {
             "colorbar": {
              "outlinewidth": 0,
              "ticks": ""
             }
            },
            "type": "scattergeo"
           }
          ],
          "scattergl": [
           {
            "marker": {
             "colorbar": {
              "outlinewidth": 0,
              "ticks": ""
             }
            },
            "type": "scattergl"
           }
          ],
          "scattermapbox": [
           {
            "marker": {
             "colorbar": {
              "outlinewidth": 0,
              "ticks": ""
             }
            },
            "type": "scattermapbox"
           }
          ],
          "scatterpolar": [
           {
            "marker": {
             "colorbar": {
              "outlinewidth": 0,
              "ticks": ""
             }
            },
            "type": "scatterpolar"
           }
          ],
          "scatterpolargl": [
           {
            "marker": {
             "colorbar": {
              "outlinewidth": 0,
              "ticks": ""
             }
            },
            "type": "scatterpolargl"
           }
          ],
          "scatterternary": [
           {
            "marker": {
             "colorbar": {
              "outlinewidth": 0,
              "ticks": ""
             }
            },
            "type": "scatterternary"
           }
          ],
          "surface": [
           {
            "colorbar": {
             "outlinewidth": 0,
             "ticks": ""
            },
            "colorscale": [
             [
              0,
              "#0d0887"
             ],
             [
              0.1111111111111111,
              "#46039f"
             ],
             [
              0.2222222222222222,
              "#7201a8"
             ],
             [
              0.3333333333333333,
              "#9c179e"
             ],
             [
              0.4444444444444444,
              "#bd3786"
             ],
             [
              0.5555555555555556,
              "#d8576b"
             ],
             [
              0.6666666666666666,
              "#ed7953"
             ],
             [
              0.7777777777777778,
              "#fb9f3a"
             ],
             [
              0.8888888888888888,
              "#fdca26"
             ],
             [
              1,
              "#f0f921"
             ]
            ],
            "type": "surface"
           }
          ],
          "table": [
           {
            "cells": {
             "fill": {
              "color": "#EBF0F8"
             },
             "line": {
              "color": "white"
             }
            },
            "header": {
             "fill": {
              "color": "#C8D4E3"
             },
             "line": {
              "color": "white"
             }
            },
            "type": "table"
           }
          ]
         },
         "layout": {
          "annotationdefaults": {
           "arrowcolor": "#2a3f5f",
           "arrowhead": 0,
           "arrowwidth": 1
          },
          "autotypenumbers": "strict",
          "coloraxis": {
           "colorbar": {
            "outlinewidth": 0,
            "ticks": ""
           }
          },
          "colorscale": {
           "diverging": [
            [
             0,
             "#8e0152"
            ],
            [
             0.1,
             "#c51b7d"
            ],
            [
             0.2,
             "#de77ae"
            ],
            [
             0.3,
             "#f1b6da"
            ],
            [
             0.4,
             "#fde0ef"
            ],
            [
             0.5,
             "#f7f7f7"
            ],
            [
             0.6,
             "#e6f5d0"
            ],
            [
             0.7,
             "#b8e186"
            ],
            [
             0.8,
             "#7fbc41"
            ],
            [
             0.9,
             "#4d9221"
            ],
            [
             1,
             "#276419"
            ]
           ],
           "sequential": [
            [
             0,
             "#0d0887"
            ],
            [
             0.1111111111111111,
             "#46039f"
            ],
            [
             0.2222222222222222,
             "#7201a8"
            ],
            [
             0.3333333333333333,
             "#9c179e"
            ],
            [
             0.4444444444444444,
             "#bd3786"
            ],
            [
             0.5555555555555556,
             "#d8576b"
            ],
            [
             0.6666666666666666,
             "#ed7953"
            ],
            [
             0.7777777777777778,
             "#fb9f3a"
            ],
            [
             0.8888888888888888,
             "#fdca26"
            ],
            [
             1,
             "#f0f921"
            ]
           ],
           "sequentialminus": [
            [
             0,
             "#0d0887"
            ],
            [
             0.1111111111111111,
             "#46039f"
            ],
            [
             0.2222222222222222,
             "#7201a8"
            ],
            [
             0.3333333333333333,
             "#9c179e"
            ],
            [
             0.4444444444444444,
             "#bd3786"
            ],
            [
             0.5555555555555556,
             "#d8576b"
            ],
            [
             0.6666666666666666,
             "#ed7953"
            ],
            [
             0.7777777777777778,
             "#fb9f3a"
            ],
            [
             0.8888888888888888,
             "#fdca26"
            ],
            [
             1,
             "#f0f921"
            ]
           ]
          },
          "colorway": [
           "#636efa",
           "#EF553B",
           "#00cc96",
           "#ab63fa",
           "#FFA15A",
           "#19d3f3",
           "#FF6692",
           "#B6E880",
           "#FF97FF",
           "#FECB52"
          ],
          "font": {
           "color": "#2a3f5f"
          },
          "geo": {
           "bgcolor": "white",
           "lakecolor": "white",
           "landcolor": "#E5ECF6",
           "showlakes": true,
           "showland": true,
           "subunitcolor": "white"
          },
          "hoverlabel": {
           "align": "left"
          },
          "hovermode": "closest",
          "mapbox": {
           "style": "light"
          },
          "paper_bgcolor": "white",
          "plot_bgcolor": "#E5ECF6",
          "polar": {
           "angularaxis": {
            "gridcolor": "white",
            "linecolor": "white",
            "ticks": ""
           },
           "bgcolor": "#E5ECF6",
           "radialaxis": {
            "gridcolor": "white",
            "linecolor": "white",
            "ticks": ""
           }
          },
          "scene": {
           "xaxis": {
            "backgroundcolor": "#E5ECF6",
            "gridcolor": "white",
            "gridwidth": 2,
            "linecolor": "white",
            "showbackground": true,
            "ticks": "",
            "zerolinecolor": "white"
           },
           "yaxis": {
            "backgroundcolor": "#E5ECF6",
            "gridcolor": "white",
            "gridwidth": 2,
            "linecolor": "white",
            "showbackground": true,
            "ticks": "",
            "zerolinecolor": "white"
           },
           "zaxis": {
            "backgroundcolor": "#E5ECF6",
            "gridcolor": "white",
            "gridwidth": 2,
            "linecolor": "white",
            "showbackground": true,
            "ticks": "",
            "zerolinecolor": "white"
           }
          },
          "shapedefaults": {
           "line": {
            "color": "#2a3f5f"
           }
          },
          "ternary": {
           "aaxis": {
            "gridcolor": "white",
            "linecolor": "white",
            "ticks": ""
           },
           "baxis": {
            "gridcolor": "white",
            "linecolor": "white",
            "ticks": ""
           },
           "bgcolor": "#E5ECF6",
           "caxis": {
            "gridcolor": "white",
            "linecolor": "white",
            "ticks": ""
           }
          },
          "title": {
           "x": 0.05
          },
          "xaxis": {
           "automargin": true,
           "gridcolor": "white",
           "linecolor": "white",
           "ticks": "",
           "title": {
            "standoff": 15
           },
           "zerolinecolor": "white",
           "zerolinewidth": 2
          },
          "yaxis": {
           "automargin": true,
           "gridcolor": "white",
           "linecolor": "white",
           "ticks": "",
           "title": {
            "standoff": 15
           },
           "zerolinecolor": "white",
           "zerolinewidth": 2
          }
         }
        },
        "title": {
         "text": "Spending categories"
        },
        "width": 2200,
        "yaxis": {
         "title": {
          "text": "Amount"
         }
        }
       }
      }
     },
     "metadata": {},
     "output_type": "display_data"
    }
   ],
   "source": [
    "## Bar chart for top-spending categories\n",
    "# Function to identify top 5 categories and create 'Other'\n",
    "def process_month(df_month):\n",
    "    # Calculate the total amount by category for each month\n",
    "    category_totals = df_month.groupby('category_m')['amount'].sum()\n",
    "    # Identify top 5 categories\n",
    "    top_categories = category_totals.nlargest(20).index\n",
    "    # Replace non-top categories with 'Other'\n",
    "    df_month['category_m'] = df_month['category_m'].apply(lambda x: x if x in top_categories else 'other')\n",
    "    # Aggregate amounts\n",
    "    df_processed = df_month.groupby(['month', 'category_m'])['amount'].sum().reset_index()\n",
    "    return df_processed\n",
    "\n",
    "\n",
    "## Create bar chart for per-month category breakdown\n",
    "df_bar_post_pan = df_post_pan_0\n",
    "df_bar_post_pan = df_bar_post_pan[['amount', 'category_m', 'month']]\n",
    "\n",
    "# Reformat and pivot for bar chart\n",
    "df_bar_post_pan = df_bar_post_pan.groupby(['month', 'category_m']).sum().reset_index()\n",
    "df_bar_post_pan = df_bar_post_pan[df_bar_post_pan['amount'] < 0]\n",
    "df_bar_post_pan['amount'] *= -1\n",
    "df_bar_post_pan = df_bar_post_pan.groupby('month').apply(process_month).reset_index(drop=True)\n",
    "\n",
    "\n",
    "# Calculate the total number of rows\n",
    "total_rows = len(df_bar_post_pan)\n",
    "\n",
    "# Count the occurrences of each unique value in the 'category' column\n",
    "category_counts = df_bar_post_pan['category_m'].value_counts()\n",
    "\n",
    "# Calculate the percentage contribution of each category\n",
    "category_percentage = (category_counts / total_rows) * 100\n",
    "\n",
    "# Map the calculated percentages back to the DataFrame\n",
    "df_bar_post_pan['category_percentage'] = df_bar_post_pan['category_m'].map(category_percentage)\n",
    "df_bar_post_pan = df_bar_post_pan.sort_values(['category_percentage', 'category_m'], ascending=False)\n",
    "\n",
    "\n",
    "# Pivot for bar chart\n",
    "df_bar_pivot = df_bar_post_pan.pivot(\n",
    "    index='month',\n",
    "    columns='category_m',\n",
    "    values='amount'\n",
    ").reset_index()\n",
    "# Add a total column\n",
    "# df_bar_pivot['total'] = df_bar_pivot.iloc[:,2:].sum(axis=1)\n",
    "# bar_series = list(df_bar_post_pan['category_m'].unique())\n",
    "# bar_series.extend(['total'])\n",
    "\n",
    "# Create the bar chart\n",
    "fig_3 = go.Figure()\n",
    "# for category in df_bar_post_pan['category_m'].unique():\n",
    "#     fig_3.add_trace(go.Bar(\n",
    "#         x=df_bar_pivot['month'],\n",
    "#         y=df_bar_pivot[category],\n",
    "#         name=category\n",
    "#     ))\n",
    "# Add bars for each category\n",
    "for category in df_bar_post_pan['category_m'].unique():\n",
    "    # df_category = df_bar_pivot[df_bar_pivot['category_m'] == category]\n",
    "    fig_3.add_trace(go.Bar(\n",
    "        x=df_bar_pivot['month'],\n",
    "        y=df_bar_pivot[category],\n",
    "        name=category\n",
    "    ))\n",
    "\n",
    "fig_3.update_layout(\n",
    "    barmode='stack',\n",
    "    title='Spending categories',\n",
    "    yaxis_title='Amount',\n",
    "    width=width_,\n",
    "    height=height_,    \n",
    ")\n",
    "# Show the plot\n",
    "fig_3.show()"
   ]
  },
  {
   "cell_type": "markdown",
   "metadata": {},
   "source": [
    "TODO: next 2 things I really need:\n",
    "    - things together on a dashboard with shared filtering\n",
    "    - itemised table to show the month in question"
   ]
  },
  {
   "cell_type": "markdown",
   "metadata": {},
   "source": [
    "### Older analysis"
   ]
  },
  {
   "cell_type": "code",
   "execution_count": 130,
   "metadata": {},
   "outputs": [
    {
     "data": {
      "application/vnd.plotly.v1+json": {
       "config": {
        "plotlyServerURL": "https://plot.ly"
       },
       "data": [
        {
         "line": {
          "color": "royalblue"
         },
         "mode": "lines",
         "name": "Values",
         "type": "scatter",
         "x": [
          "2024-08-02T00:00:00",
          "2024-08-03T00:00:00",
          "2024-08-04T00:00:00",
          "2024-08-05T00:00:00",
          "2024-08-06T00:00:00",
          "2024-08-07T00:00:00",
          "2024-08-08T00:00:00",
          "2024-08-09T00:00:00",
          "2024-08-10T00:00:00",
          "2024-08-11T00:00:00",
          "2024-08-12T00:00:00",
          "2024-08-13T00:00:00",
          "2024-08-14T00:00:00",
          "2024-08-15T00:00:00",
          "2024-08-16T00:00:00",
          "2024-08-17T00:00:00",
          "2024-08-18T00:00:00",
          "2024-08-19T00:00:00",
          "2024-08-20T00:00:00",
          "2024-08-21T00:00:00",
          "2024-08-22T00:00:00",
          "2024-08-23T00:00:00",
          "2024-08-24T00:00:00",
          "2024-08-25T00:00:00",
          "2024-08-26T00:00:00",
          "2024-08-27T00:00:00",
          "2024-08-28T00:00:00",
          "2024-08-29T00:00:00",
          "2024-08-30T00:00:00",
          "2024-08-31T00:00:00",
          "2024-09-01T00:00:00",
          "2024-09-02T00:00:00",
          "2024-09-03T00:00:00",
          "2024-09-04T00:00:00",
          "2024-09-05T00:00:00",
          "2024-09-06T00:00:00",
          "2024-09-07T00:00:00",
          "2024-09-08T00:00:00",
          "2024-09-09T00:00:00",
          "2024-09-10T00:00:00",
          "2024-09-11T00:00:00",
          "2024-09-12T00:00:00",
          "2024-09-13T00:00:00",
          "2024-09-14T00:00:00",
          "2024-09-15T00:00:00",
          "2024-09-16T00:00:00",
          "2024-09-17T00:00:00",
          "2024-09-18T00:00:00",
          "2024-09-19T00:00:00",
          "2024-09-20T00:00:00",
          "2024-09-21T00:00:00",
          "2024-09-22T00:00:00",
          "2024-09-23T00:00:00",
          "2024-09-24T00:00:00",
          "2024-09-25T00:00:00",
          "2024-09-26T00:00:00",
          "2024-09-27T00:00:00",
          "2024-09-28T00:00:00",
          "2024-09-29T00:00:00",
          "2024-09-30T00:00:00",
          "2024-10-01T00:00:00",
          "2024-10-02T00:00:00",
          "2024-10-03T00:00:00",
          "2024-10-04T00:00:00",
          "2024-10-05T00:00:00",
          "2024-10-06T00:00:00",
          "2024-10-07T00:00:00",
          "2024-10-08T00:00:00",
          "2024-10-09T00:00:00",
          "2024-10-10T00:00:00",
          "2024-10-11T00:00:00",
          "2024-10-12T00:00:00",
          "2024-10-13T00:00:00",
          "2024-10-14T00:00:00",
          "2024-10-15T00:00:00",
          "2024-10-16T00:00:00",
          "2024-10-17T00:00:00",
          "2024-10-18T00:00:00",
          "2024-10-19T00:00:00",
          "2024-10-20T00:00:00",
          "2024-10-21T00:00:00",
          "2024-10-22T00:00:00",
          "2024-10-23T00:00:00",
          "2024-10-24T00:00:00",
          "2024-10-25T00:00:00",
          "2024-10-26T00:00:00",
          "2024-10-27T00:00:00",
          "2024-10-28T00:00:00",
          "2024-10-29T00:00:00",
          "2024-10-30T00:00:00",
          "2024-10-31T00:00:00"
         ],
         "y": [
          3643.265250846088,
          3610.4105016920976,
          3577.5557525381073,
          3544.701003384117,
          3511.846254230127,
          3478.991505076137,
          3446.1367559221467,
          3413.2820067681564,
          3380.427257614166,
          3347.572508460176,
          3314.7177593061856,
          3281.863010152196,
          3249.0082609982055,
          2516.1535118442152,
          2483.298762690225,
          2450.4440135362347,
          2417.5892643822444,
          2384.734515228254,
          2351.879766074264,
          2319.0250169202736,
          2286.1702677662834,
          2253.315518612293,
          2220.460769458303,
          2187.6060203043126,
          2154.7512711503223,
          2121.896521996332,
          2089.0417728423417,
          2056.1870236883515,
          2023.3322745343612,
          1990.477525380371,
          3703.8227762263805,
          3670.9680270723907,
          3638.1132779184004,
          3605.25852876441,
          3572.40377961042,
          3539.5490304564296,
          3506.6942813024393,
          3473.839532148449,
          3440.9847829944592,
          3408.130033840469,
          3375.2752846864787,
          3342.4205355324884,
          3309.565786378498,
          3276.711037224508,
          2543.8562880705176,
          2511.0015389165274,
          2478.146789762537,
          2445.292040608547,
          2412.4372914545565,
          2379.5825423005663,
          2346.727793146576,
          2313.8730439925857,
          2281.0182948385955,
          2248.163545684605,
          2215.308796530615,
          2182.4540473766247,
          2149.5992982226344,
          2116.744549068644,
          2083.889799914654,
          2051.0350507606636,
          3764.3803016066736,
          3731.5255524526833,
          3698.670803298693,
          3665.816054144703,
          3632.961304990713,
          3600.1065558367227,
          3567.2518066827324,
          3534.397057528742,
          3501.542308374752,
          3468.6875592207616,
          3435.8328100667713,
          3402.978060912781,
          3370.1233117587913,
          3337.268562604801,
          2604.4138134508107,
          2571.5590642968205,
          2538.70431514283,
          2505.84956598884,
          2472.9948168348496,
          2440.1400676808594,
          2407.285318526869,
          2374.430569372879,
          2341.5758202188886,
          2308.7210710648983,
          2275.866321910908,
          2243.0115727569178,
          2210.1568236029275,
          2177.302074448937,
          2144.447325294947,
          2111.5925761409567,
          2078.7378269869664
         ]
        }
       ],
       "layout": {
        "height": 1100,
        "shapes": [
         {
          "fillcolor": "rgba(232, 49, 60, 0.2)",
          "line": {
           "color": "rgba(232, 49, 60, 0.2)",
           "width": 2
          },
          "x0": "2024-08-01",
          "x1": "2024-11-01",
          "y0": 500,
          "y1": -200
         }
        ],
        "template": {
         "data": {
          "bar": [
           {
            "error_x": {
             "color": "#2a3f5f"
            },
            "error_y": {
             "color": "#2a3f5f"
            },
            "marker": {
             "line": {
              "color": "#E5ECF6",
              "width": 0.5
             },
             "pattern": {
              "fillmode": "overlay",
              "size": 10,
              "solidity": 0.2
             }
            },
            "type": "bar"
           }
          ],
          "barpolar": [
           {
            "marker": {
             "line": {
              "color": "#E5ECF6",
              "width": 0.5
             },
             "pattern": {
              "fillmode": "overlay",
              "size": 10,
              "solidity": 0.2
             }
            },
            "type": "barpolar"
           }
          ],
          "carpet": [
           {
            "aaxis": {
             "endlinecolor": "#2a3f5f",
             "gridcolor": "white",
             "linecolor": "white",
             "minorgridcolor": "white",
             "startlinecolor": "#2a3f5f"
            },
            "baxis": {
             "endlinecolor": "#2a3f5f",
             "gridcolor": "white",
             "linecolor": "white",
             "minorgridcolor": "white",
             "startlinecolor": "#2a3f5f"
            },
            "type": "carpet"
           }
          ],
          "choropleth": [
           {
            "colorbar": {
             "outlinewidth": 0,
             "ticks": ""
            },
            "type": "choropleth"
           }
          ],
          "contour": [
           {
            "colorbar": {
             "outlinewidth": 0,
             "ticks": ""
            },
            "colorscale": [
             [
              0,
              "#0d0887"
             ],
             [
              0.1111111111111111,
              "#46039f"
             ],
             [
              0.2222222222222222,
              "#7201a8"
             ],
             [
              0.3333333333333333,
              "#9c179e"
             ],
             [
              0.4444444444444444,
              "#bd3786"
             ],
             [
              0.5555555555555556,
              "#d8576b"
             ],
             [
              0.6666666666666666,
              "#ed7953"
             ],
             [
              0.7777777777777778,
              "#fb9f3a"
             ],
             [
              0.8888888888888888,
              "#fdca26"
             ],
             [
              1,
              "#f0f921"
             ]
            ],
            "type": "contour"
           }
          ],
          "contourcarpet": [
           {
            "colorbar": {
             "outlinewidth": 0,
             "ticks": ""
            },
            "type": "contourcarpet"
           }
          ],
          "heatmap": [
           {
            "colorbar": {
             "outlinewidth": 0,
             "ticks": ""
            },
            "colorscale": [
             [
              0,
              "#0d0887"
             ],
             [
              0.1111111111111111,
              "#46039f"
             ],
             [
              0.2222222222222222,
              "#7201a8"
             ],
             [
              0.3333333333333333,
              "#9c179e"
             ],
             [
              0.4444444444444444,
              "#bd3786"
             ],
             [
              0.5555555555555556,
              "#d8576b"
             ],
             [
              0.6666666666666666,
              "#ed7953"
             ],
             [
              0.7777777777777778,
              "#fb9f3a"
             ],
             [
              0.8888888888888888,
              "#fdca26"
             ],
             [
              1,
              "#f0f921"
             ]
            ],
            "type": "heatmap"
           }
          ],
          "heatmapgl": [
           {
            "colorbar": {
             "outlinewidth": 0,
             "ticks": ""
            },
            "colorscale": [
             [
              0,
              "#0d0887"
             ],
             [
              0.1111111111111111,
              "#46039f"
             ],
             [
              0.2222222222222222,
              "#7201a8"
             ],
             [
              0.3333333333333333,
              "#9c179e"
             ],
             [
              0.4444444444444444,
              "#bd3786"
             ],
             [
              0.5555555555555556,
              "#d8576b"
             ],
             [
              0.6666666666666666,
              "#ed7953"
             ],
             [
              0.7777777777777778,
              "#fb9f3a"
             ],
             [
              0.8888888888888888,
              "#fdca26"
             ],
             [
              1,
              "#f0f921"
             ]
            ],
            "type": "heatmapgl"
           }
          ],
          "histogram": [
           {
            "marker": {
             "pattern": {
              "fillmode": "overlay",
              "size": 10,
              "solidity": 0.2
             }
            },
            "type": "histogram"
           }
          ],
          "histogram2d": [
           {
            "colorbar": {
             "outlinewidth": 0,
             "ticks": ""
            },
            "colorscale": [
             [
              0,
              "#0d0887"
             ],
             [
              0.1111111111111111,
              "#46039f"
             ],
             [
              0.2222222222222222,
              "#7201a8"
             ],
             [
              0.3333333333333333,
              "#9c179e"
             ],
             [
              0.4444444444444444,
              "#bd3786"
             ],
             [
              0.5555555555555556,
              "#d8576b"
             ],
             [
              0.6666666666666666,
              "#ed7953"
             ],
             [
              0.7777777777777778,
              "#fb9f3a"
             ],
             [
              0.8888888888888888,
              "#fdca26"
             ],
             [
              1,
              "#f0f921"
             ]
            ],
            "type": "histogram2d"
           }
          ],
          "histogram2dcontour": [
           {
            "colorbar": {
             "outlinewidth": 0,
             "ticks": ""
            },
            "colorscale": [
             [
              0,
              "#0d0887"
             ],
             [
              0.1111111111111111,
              "#46039f"
             ],
             [
              0.2222222222222222,
              "#7201a8"
             ],
             [
              0.3333333333333333,
              "#9c179e"
             ],
             [
              0.4444444444444444,
              "#bd3786"
             ],
             [
              0.5555555555555556,
              "#d8576b"
             ],
             [
              0.6666666666666666,
              "#ed7953"
             ],
             [
              0.7777777777777778,
              "#fb9f3a"
             ],
             [
              0.8888888888888888,
              "#fdca26"
             ],
             [
              1,
              "#f0f921"
             ]
            ],
            "type": "histogram2dcontour"
           }
          ],
          "mesh3d": [
           {
            "colorbar": {
             "outlinewidth": 0,
             "ticks": ""
            },
            "type": "mesh3d"
           }
          ],
          "parcoords": [
           {
            "line": {
             "colorbar": {
              "outlinewidth": 0,
              "ticks": ""
             }
            },
            "type": "parcoords"
           }
          ],
          "pie": [
           {
            "automargin": true,
            "type": "pie"
           }
          ],
          "scatter": [
           {
            "fillpattern": {
             "fillmode": "overlay",
             "size": 10,
             "solidity": 0.2
            },
            "type": "scatter"
           }
          ],
          "scatter3d": [
           {
            "line": {
             "colorbar": {
              "outlinewidth": 0,
              "ticks": ""
             }
            },
            "marker": {
             "colorbar": {
              "outlinewidth": 0,
              "ticks": ""
             }
            },
            "type": "scatter3d"
           }
          ],
          "scattercarpet": [
           {
            "marker": {
             "colorbar": {
              "outlinewidth": 0,
              "ticks": ""
             }
            },
            "type": "scattercarpet"
           }
          ],
          "scattergeo": [
           {
            "marker": {
             "colorbar": {
              "outlinewidth": 0,
              "ticks": ""
             }
            },
            "type": "scattergeo"
           }
          ],
          "scattergl": [
           {
            "marker": {
             "colorbar": {
              "outlinewidth": 0,
              "ticks": ""
             }
            },
            "type": "scattergl"
           }
          ],
          "scattermapbox": [
           {
            "marker": {
             "colorbar": {
              "outlinewidth": 0,
              "ticks": ""
             }
            },
            "type": "scattermapbox"
           }
          ],
          "scatterpolar": [
           {
            "marker": {
             "colorbar": {
              "outlinewidth": 0,
              "ticks": ""
             }
            },
            "type": "scatterpolar"
           }
          ],
          "scatterpolargl": [
           {
            "marker": {
             "colorbar": {
              "outlinewidth": 0,
              "ticks": ""
             }
            },
            "type": "scatterpolargl"
           }
          ],
          "scatterternary": [
           {
            "marker": {
             "colorbar": {
              "outlinewidth": 0,
              "ticks": ""
             }
            },
            "type": "scatterternary"
           }
          ],
          "surface": [
           {
            "colorbar": {
             "outlinewidth": 0,
             "ticks": ""
            },
            "colorscale": [
             [
              0,
              "#0d0887"
             ],
             [
              0.1111111111111111,
              "#46039f"
             ],
             [
              0.2222222222222222,
              "#7201a8"
             ],
             [
              0.3333333333333333,
              "#9c179e"
             ],
             [
              0.4444444444444444,
              "#bd3786"
             ],
             [
              0.5555555555555556,
              "#d8576b"
             ],
             [
              0.6666666666666666,
              "#ed7953"
             ],
             [
              0.7777777777777778,
              "#fb9f3a"
             ],
             [
              0.8888888888888888,
              "#fdca26"
             ],
             [
              1,
              "#f0f921"
             ]
            ],
            "type": "surface"
           }
          ],
          "table": [
           {
            "cells": {
             "fill": {
              "color": "#EBF0F8"
             },
             "line": {
              "color": "white"
             }
            },
            "header": {
             "fill": {
              "color": "#C8D4E3"
             },
             "line": {
              "color": "white"
             }
            },
            "type": "table"
           }
          ]
         },
         "layout": {
          "annotationdefaults": {
           "arrowcolor": "#2a3f5f",
           "arrowhead": 0,
           "arrowwidth": 1
          },
          "autotypenumbers": "strict",
          "coloraxis": {
           "colorbar": {
            "outlinewidth": 0,
            "ticks": ""
           }
          },
          "colorscale": {
           "diverging": [
            [
             0,
             "#8e0152"
            ],
            [
             0.1,
             "#c51b7d"
            ],
            [
             0.2,
             "#de77ae"
            ],
            [
             0.3,
             "#f1b6da"
            ],
            [
             0.4,
             "#fde0ef"
            ],
            [
             0.5,
             "#f7f7f7"
            ],
            [
             0.6,
             "#e6f5d0"
            ],
            [
             0.7,
             "#b8e186"
            ],
            [
             0.8,
             "#7fbc41"
            ],
            [
             0.9,
             "#4d9221"
            ],
            [
             1,
             "#276419"
            ]
           ],
           "sequential": [
            [
             0,
             "#0d0887"
            ],
            [
             0.1111111111111111,
             "#46039f"
            ],
            [
             0.2222222222222222,
             "#7201a8"
            ],
            [
             0.3333333333333333,
             "#9c179e"
            ],
            [
             0.4444444444444444,
             "#bd3786"
            ],
            [
             0.5555555555555556,
             "#d8576b"
            ],
            [
             0.6666666666666666,
             "#ed7953"
            ],
            [
             0.7777777777777778,
             "#fb9f3a"
            ],
            [
             0.8888888888888888,
             "#fdca26"
            ],
            [
             1,
             "#f0f921"
            ]
           ],
           "sequentialminus": [
            [
             0,
             "#0d0887"
            ],
            [
             0.1111111111111111,
             "#46039f"
            ],
            [
             0.2222222222222222,
             "#7201a8"
            ],
            [
             0.3333333333333333,
             "#9c179e"
            ],
            [
             0.4444444444444444,
             "#bd3786"
            ],
            [
             0.5555555555555556,
             "#d8576b"
            ],
            [
             0.6666666666666666,
             "#ed7953"
            ],
            [
             0.7777777777777778,
             "#fb9f3a"
            ],
            [
             0.8888888888888888,
             "#fdca26"
            ],
            [
             1,
             "#f0f921"
            ]
           ]
          },
          "colorway": [
           "#636efa",
           "#EF553B",
           "#00cc96",
           "#ab63fa",
           "#FFA15A",
           "#19d3f3",
           "#FF6692",
           "#B6E880",
           "#FF97FF",
           "#FECB52"
          ],
          "font": {
           "color": "#2a3f5f"
          },
          "geo": {
           "bgcolor": "white",
           "lakecolor": "white",
           "landcolor": "#E5ECF6",
           "showlakes": true,
           "showland": true,
           "subunitcolor": "white"
          },
          "hoverlabel": {
           "align": "left"
          },
          "hovermode": "closest",
          "mapbox": {
           "style": "light"
          },
          "paper_bgcolor": "white",
          "plot_bgcolor": "#E5ECF6",
          "polar": {
           "angularaxis": {
            "gridcolor": "white",
            "linecolor": "white",
            "ticks": ""
           },
           "bgcolor": "#E5ECF6",
           "radialaxis": {
            "gridcolor": "white",
            "linecolor": "white",
            "ticks": ""
           }
          },
          "scene": {
           "xaxis": {
            "backgroundcolor": "#E5ECF6",
            "gridcolor": "white",
            "gridwidth": 2,
            "linecolor": "white",
            "showbackground": true,
            "ticks": "",
            "zerolinecolor": "white"
           },
           "yaxis": {
            "backgroundcolor": "#E5ECF6",
            "gridcolor": "white",
            "gridwidth": 2,
            "linecolor": "white",
            "showbackground": true,
            "ticks": "",
            "zerolinecolor": "white"
           },
           "zaxis": {
            "backgroundcolor": "#E5ECF6",
            "gridcolor": "white",
            "gridwidth": 2,
            "linecolor": "white",
            "showbackground": true,
            "ticks": "",
            "zerolinecolor": "white"
           }
          },
          "shapedefaults": {
           "line": {
            "color": "#2a3f5f"
           }
          },
          "ternary": {
           "aaxis": {
            "gridcolor": "white",
            "linecolor": "white",
            "ticks": ""
           },
           "baxis": {
            "gridcolor": "white",
            "linecolor": "white",
            "ticks": ""
           },
           "bgcolor": "#E5ECF6",
           "caxis": {
            "gridcolor": "white",
            "linecolor": "white",
            "ticks": ""
           }
          },
          "title": {
           "x": 0.05
          },
          "xaxis": {
           "automargin": true,
           "gridcolor": "white",
           "linecolor": "white",
           "ticks": "",
           "title": {
            "standoff": 15
           },
           "zerolinecolor": "white",
           "zerolinewidth": 2
          },
          "yaxis": {
           "automargin": true,
           "gridcolor": "white",
           "linecolor": "white",
           "ticks": "",
           "title": {
            "standoff": 15
           },
           "zerolinecolor": "white",
           "zerolinewidth": 2
          }
         }
        },
        "title": {
         "text": "Projected Balance over Time"
        },
        "width": 2200,
        "xaxis": {
         "range": [
          "2024-08-02",
          "2024-10-31"
         ],
         "title": {
          "text": "Date"
         }
        },
        "yaxis": {
         "range": [
          0,
          3864.3803016066736
         ],
         "title": {
          "text": "Projected Balance"
         }
        }
       }
      }
     },
     "metadata": {},
     "output_type": "display_data"
    }
   ],
   "source": [
    "## [de-activated] Line chart\n",
    "colour_danger_zone = 'rgba(232, 49, 60, 0.2)'\n",
    "shape_danger_zone = {\n",
    "    'x0': start_date + timedelta(days=-1),\n",
    "    'x1': df_forecast['date'].iloc[-1].date() + timedelta(days=1),\n",
    "    'y0': 500,\n",
    "    'y1': -200,\n",
    "    'fillcolor': colour_danger_zone,\n",
    "    'line': {'width': 2, 'color': colour_danger_zone}\n",
    "}\n",
    "\n",
    "# Create the line chart\n",
    "fig_1 = go.Figure()\n",
    "\n",
    "fig_1.add_trace(go.Scatter(\n",
    "    x=df_forecast['date'],\n",
    "    y=df_forecast['balance_projected'],\n",
    "    mode='lines',\n",
    "    name='Values',\n",
    "    line=dict(color='royalblue'),\n",
    "))\n",
    "\n",
    "# Update layout\n",
    "fig_1.update_layout(\n",
    "    title='Projected Balance over Time',\n",
    "    xaxis_title='Date',\n",
    "    yaxis_title='Projected Balance',\n",
    "    shapes=[shape_danger_zone],\n",
    "    width=width_,\n",
    "    height=height_,\n",
    "    # Set default axis limits\n",
    "    yaxis=dict(\n",
    "        range=[0, df_forecast['balance_projected'].max() + 100]\n",
    "    ),\n",
    "    xaxis=dict(\n",
    "        range=[start_date, df_forecast['date'].iloc[-1].date()]\n",
    "    )\n",
    ")\n",
    "\n",
    "# Show the plot\n",
    "fig_1.show()\n"
   ]
  },
  {
   "cell_type": "code",
   "execution_count": 131,
   "metadata": {},
   "outputs": [
    {
     "data": {
      "text/html": [
       "<div>\n",
       "<style scoped>\n",
       "    .dataframe tbody tr th:only-of-type {\n",
       "        vertical-align: middle;\n",
       "    }\n",
       "\n",
       "    .dataframe tbody tr th {\n",
       "        vertical-align: top;\n",
       "    }\n",
       "\n",
       "    .dataframe thead th {\n",
       "        text-align: right;\n",
       "    }\n",
       "</style>\n",
       "<table border=\"1\" class=\"dataframe\">\n",
       "  <thead>\n",
       "    <tr style=\"text-align: right;\">\n",
       "      <th></th>\n",
       "      <th>transaction_id</th>\n",
       "      <th>type</th>\n",
       "      <th>name</th>\n",
       "      <th>category</th>\n",
       "      <th>amount</th>\n",
       "      <th>local_amount</th>\n",
       "      <th>local_currency</th>\n",
       "      <th>description</th>\n",
       "      <th>money_out</th>\n",
       "      <th>money_in</th>\n",
       "      <th>tr_datetime</th>\n",
       "      <th>balance</th>\n",
       "    </tr>\n",
       "  </thead>\n",
       "  <tbody>\n",
       "    <tr>\n",
       "      <th>6237</th>\n",
       "      <td>tx_0000Ajb5MGW3jcOYvnVB9l</td>\n",
       "      <td>card payment</td>\n",
       "      <td>elif food centre</td>\n",
       "      <td>general</td>\n",
       "      <td>-3.98</td>\n",
       "      <td>-3.98</td>\n",
       "      <td>gbp</td>\n",
       "      <td>elif food centre       london        gbr</td>\n",
       "      <td>-3.98</td>\n",
       "      <td>NaN</td>\n",
       "      <td>2024-07-04 19:51:41</td>\n",
       "      <td>1025.23</td>\n",
       "    </tr>\n",
       "    <tr>\n",
       "      <th>6238</th>\n",
       "      <td>tx_0000Ajb6I2p2o2izZ8OYin</td>\n",
       "      <td>card payment</td>\n",
       "      <td>tfl cycle hire</td>\n",
       "      <td>transport</td>\n",
       "      <td>-1.65</td>\n",
       "      <td>-1.65</td>\n",
       "      <td>gbp</td>\n",
       "      <td>tfl cycle hire         london        gbr</td>\n",
       "      <td>-1.65</td>\n",
       "      <td>NaN</td>\n",
       "      <td>2024-07-04 20:02:08</td>\n",
       "      <td>1023.58</td>\n",
       "    </tr>\n",
       "    <tr>\n",
       "      <th>6239</th>\n",
       "      <td>tx_0000Ajbk1zQxdII3tAYDgn</td>\n",
       "      <td>card payment</td>\n",
       "      <td>transport for london</td>\n",
       "      <td>transport</td>\n",
       "      <td>-1.75</td>\n",
       "      <td>-1.75</td>\n",
       "      <td>gbp</td>\n",
       "      <td>tfl travel charge      tfl.gov.uk/cp gbr</td>\n",
       "      <td>-1.75</td>\n",
       "      <td>NaN</td>\n",
       "      <td>2024-07-05 03:27:26</td>\n",
       "      <td>1021.83</td>\n",
       "    </tr>\n",
       "    <tr>\n",
       "      <th>6240</th>\n",
       "      <td>tx_0000Ajcx5rADocjUpHM83d</td>\n",
       "      <td>card payment</td>\n",
       "      <td>toogoodt ef2486n632370</td>\n",
       "      <td>eating out</td>\n",
       "      <td>-5.00</td>\n",
       "      <td>-5.00</td>\n",
       "      <td>gbp</td>\n",
       "      <td>toogoodt ef2486n632370 toogoodtogo.c dnk</td>\n",
       "      <td>-5.00</td>\n",
       "      <td>NaN</td>\n",
       "      <td>2024-07-05 17:28:30</td>\n",
       "      <td>1016.83</td>\n",
       "    </tr>\n",
       "    <tr>\n",
       "      <th>6241</th>\n",
       "      <td>tx_0000AjeNu09pRXyIxLh8Jl</td>\n",
       "      <td>card payment</td>\n",
       "      <td>professional langu</td>\n",
       "      <td>entertainment</td>\n",
       "      <td>-5.00</td>\n",
       "      <td>-5.00</td>\n",
       "      <td>gbp</td>\n",
       "      <td>sq *professional langu london        gbr</td>\n",
       "      <td>-5.00</td>\n",
       "      <td>NaN</td>\n",
       "      <td>2024-07-06 10:03:36</td>\n",
       "      <td>1011.83</td>\n",
       "    </tr>\n",
       "    <tr>\n",
       "      <th>...</th>\n",
       "      <td>...</td>\n",
       "      <td>...</td>\n",
       "      <td>...</td>\n",
       "      <td>...</td>\n",
       "      <td>...</td>\n",
       "      <td>...</td>\n",
       "      <td>...</td>\n",
       "      <td>...</td>\n",
       "      <td>...</td>\n",
       "      <td>...</td>\n",
       "      <td>...</td>\n",
       "      <td>...</td>\n",
       "    </tr>\n",
       "    <tr>\n",
       "      <th>6336</th>\n",
       "      <td>tx_0000AkXfYTLwhPIxZgcPJp</td>\n",
       "      <td>direct debit</td>\n",
       "      <td>id mobile</td>\n",
       "      <td>bills</td>\n",
       "      <td>-20.00</td>\n",
       "      <td>-20.00</td>\n",
       "      <td>gbp</td>\n",
       "      <td>10903125/001</td>\n",
       "      <td>-20.00</td>\n",
       "      <td>NaN</td>\n",
       "      <td>2024-08-02 02:10:32</td>\n",
       "      <td>3600.99</td>\n",
       "    </tr>\n",
       "    <tr>\n",
       "      <th>6337</th>\n",
       "      <td>tx_0000AkYIUxxqqDoCBkV4E5</td>\n",
       "      <td>card payment</td>\n",
       "      <td>photobook ltd</td>\n",
       "      <td>eating out</td>\n",
       "      <td>-4.00</td>\n",
       "      <td>-4.00</td>\n",
       "      <td>gbp</td>\n",
       "      <td>zettle_*photobook ltd  london        gbr</td>\n",
       "      <td>-4.00</td>\n",
       "      <td>NaN</td>\n",
       "      <td>2024-08-02 09:26:53</td>\n",
       "      <td>3596.99</td>\n",
       "    </tr>\n",
       "    <tr>\n",
       "      <th>6338</th>\n",
       "      <td>tx_0000AkYJHiVh5X8AzwBpXF</td>\n",
       "      <td>faster payment</td>\n",
       "      <td>beatriz de alvarenga nogueira</td>\n",
       "      <td>income</td>\n",
       "      <td>40.00</td>\n",
       "      <td>40.00</td>\n",
       "      <td>gbp</td>\n",
       "      <td>ml 20240731-000</td>\n",
       "      <td>NaN</td>\n",
       "      <td>40.0</td>\n",
       "      <td>2024-08-02 09:35:42</td>\n",
       "      <td>3636.99</td>\n",
       "    </tr>\n",
       "    <tr>\n",
       "      <th>6339</th>\n",
       "      <td>tx_0000AkYWKMv37OTHjv06Xy</td>\n",
       "      <td>card payment</td>\n",
       "      <td>beigel shop</td>\n",
       "      <td>groceries</td>\n",
       "      <td>-3.40</td>\n",
       "      <td>-3.40</td>\n",
       "      <td>gbp</td>\n",
       "      <td>beigel shop            london  e1 6  gbr</td>\n",
       "      <td>-3.40</td>\n",
       "      <td>NaN</td>\n",
       "      <td>2024-08-02 12:01:51</td>\n",
       "      <td>3633.59</td>\n",
       "    </tr>\n",
       "    <tr>\n",
       "      <th>6340</th>\n",
       "      <td>tx_0000AkZ0RfO3qoCogLrxHF</td>\n",
       "      <td>card payment</td>\n",
       "      <td>zelal supermarket</td>\n",
       "      <td>groceries</td>\n",
       "      <td>-5.99</td>\n",
       "      <td>-5.99</td>\n",
       "      <td>gbp</td>\n",
       "      <td>zelal supermarket      london        gbr</td>\n",
       "      <td>-5.99</td>\n",
       "      <td>NaN</td>\n",
       "      <td>2024-08-02 17:39:19</td>\n",
       "      <td>3627.60</td>\n",
       "    </tr>\n",
       "  </tbody>\n",
       "</table>\n",
       "<p>104 rows × 12 columns</p>\n",
       "</div>"
      ],
      "text/plain": [
       "                 transaction_id            type                           name       category  amount  local_amount local_currency   \n",
       "6237  tx_0000Ajb5MGW3jcOYvnVB9l    card payment               elif food centre        general   -3.98         -3.98            gbp  \\\n",
       "6238  tx_0000Ajb6I2p2o2izZ8OYin    card payment                 tfl cycle hire      transport   -1.65         -1.65            gbp   \n",
       "6239  tx_0000Ajbk1zQxdII3tAYDgn    card payment           transport for london      transport   -1.75         -1.75            gbp   \n",
       "6240  tx_0000Ajcx5rADocjUpHM83d    card payment         toogoodt ef2486n632370     eating out   -5.00         -5.00            gbp   \n",
       "6241  tx_0000AjeNu09pRXyIxLh8Jl    card payment             professional langu  entertainment   -5.00         -5.00            gbp   \n",
       "...                         ...             ...                            ...            ...     ...           ...            ...   \n",
       "6336  tx_0000AkXfYTLwhPIxZgcPJp    direct debit                      id mobile          bills  -20.00        -20.00            gbp   \n",
       "6337  tx_0000AkYIUxxqqDoCBkV4E5    card payment                  photobook ltd     eating out   -4.00         -4.00            gbp   \n",
       "6338  tx_0000AkYJHiVh5X8AzwBpXF  faster payment  beatriz de alvarenga nogueira         income   40.00         40.00            gbp   \n",
       "6339  tx_0000AkYWKMv37OTHjv06Xy    card payment                    beigel shop      groceries   -3.40         -3.40            gbp   \n",
       "6340  tx_0000AkZ0RfO3qoCogLrxHF    card payment              zelal supermarket      groceries   -5.99         -5.99            gbp   \n",
       "\n",
       "                                   description  money_out  money_in         tr_datetime  balance  \n",
       "6237  elif food centre       london        gbr      -3.98       NaN 2024-07-04 19:51:41  1025.23  \n",
       "6238  tfl cycle hire         london        gbr      -1.65       NaN 2024-07-04 20:02:08  1023.58  \n",
       "6239  tfl travel charge      tfl.gov.uk/cp gbr      -1.75       NaN 2024-07-05 03:27:26  1021.83  \n",
       "6240  toogoodt ef2486n632370 toogoodtogo.c dnk      -5.00       NaN 2024-07-05 17:28:30  1016.83  \n",
       "6241  sq *professional langu london        gbr      -5.00       NaN 2024-07-06 10:03:36  1011.83  \n",
       "...                                        ...        ...       ...                 ...      ...  \n",
       "6336                              10903125/001     -20.00       NaN 2024-08-02 02:10:32  3600.99  \n",
       "6337  zettle_*photobook ltd  london        gbr      -4.00       NaN 2024-08-02 09:26:53  3596.99  \n",
       "6338                           ml 20240731-000        NaN      40.0 2024-08-02 09:35:42  3636.99  \n",
       "6339  beigel shop            london  e1 6  gbr      -3.40       NaN 2024-08-02 12:01:51  3633.59  \n",
       "6340  zelal supermarket      london        gbr      -5.99       NaN 2024-08-02 17:39:19  3627.60  \n",
       "\n",
       "[104 rows x 12 columns]"
      ]
     },
     "execution_count": 131,
     "metadata": {},
     "output_type": "execute_result"
    }
   ],
   "source": [
    "# How much have I spent in the past month?\n",
    "today = datetime.now()\n",
    "df_1_mo = df_transactions[df_transactions['tr_datetime'] >= today-timedelta(days=30)]\n",
    "df_1_mo"
   ]
  },
  {
   "cell_type": "code",
   "execution_count": 132,
   "metadata": {},
   "outputs": [
    {
     "data": {
      "text/html": [
       "<div>\n",
       "<style scoped>\n",
       "    .dataframe tbody tr th:only-of-type {\n",
       "        vertical-align: middle;\n",
       "    }\n",
       "\n",
       "    .dataframe tbody tr th {\n",
       "        vertical-align: top;\n",
       "    }\n",
       "\n",
       "    .dataframe thead th {\n",
       "        text-align: right;\n",
       "    }\n",
       "</style>\n",
       "<table border=\"1\" class=\"dataframe\">\n",
       "  <thead>\n",
       "    <tr style=\"text-align: right;\">\n",
       "      <th></th>\n",
       "      <th>type</th>\n",
       "      <th>name</th>\n",
       "      <th>category</th>\n",
       "      <th>amount</th>\n",
       "      <th>local_amount</th>\n",
       "      <th>local_currency</th>\n",
       "      <th>description</th>\n",
       "      <th>money_out</th>\n",
       "      <th>money_in</th>\n",
       "      <th>tr_datetime</th>\n",
       "      <th>balance</th>\n",
       "    </tr>\n",
       "    <tr>\n",
       "      <th>transaction_id</th>\n",
       "      <th></th>\n",
       "      <th></th>\n",
       "      <th></th>\n",
       "      <th></th>\n",
       "      <th></th>\n",
       "      <th></th>\n",
       "      <th></th>\n",
       "      <th></th>\n",
       "      <th></th>\n",
       "      <th></th>\n",
       "      <th></th>\n",
       "    </tr>\n",
       "  </thead>\n",
       "  <tbody>\n",
       "    <tr>\n",
       "      <th>tx_0000Ak0De7ZFOuSFRLC2i6</th>\n",
       "      <td>faster payment</td>\n",
       "      <td>hoxton house ltd</td>\n",
       "      <td>bills</td>\n",
       "      <td>-700.00</td>\n",
       "      <td>-700.00</td>\n",
       "      <td>gbp</td>\n",
       "      <td>rent jul-aug</td>\n",
       "      <td>-700.00</td>\n",
       "      <td>NaN</td>\n",
       "      <td>2024-07-16 22:52:20</td>\n",
       "      <td>1023.00</td>\n",
       "    </tr>\n",
       "    <tr>\n",
       "      <th>tx_0000AkQ3upG2mWLqoIj6CB</th>\n",
       "      <td>card payment</td>\n",
       "      <td>mol wex rental</td>\n",
       "      <td>general</td>\n",
       "      <td>-234.32</td>\n",
       "      <td>-234.32</td>\n",
       "      <td>gbp</td>\n",
       "      <td>mol*wex rental         442073835127  gbr</td>\n",
       "      <td>-234.32</td>\n",
       "      <td>NaN</td>\n",
       "      <td>2024-07-29 10:05:29</td>\n",
       "      <td>651.37</td>\n",
       "    </tr>\n",
       "    <tr>\n",
       "      <th>tx_0000AkA4EP7WYqiFLL25y6</th>\n",
       "      <td>card payment</td>\n",
       "      <td>mytrip 1025216549</td>\n",
       "      <td>holidays</td>\n",
       "      <td>-207.99</td>\n",
       "      <td>-207.99</td>\n",
       "      <td>gbp</td>\n",
       "      <td>mytrip_1025216549      online        gbr</td>\n",
       "      <td>-207.99</td>\n",
       "      <td>NaN</td>\n",
       "      <td>2024-07-21 16:53:57</td>\n",
       "      <td>988.57</td>\n",
       "    </tr>\n",
       "    <tr>\n",
       "      <th>tx_0000AkAHqJkyFZqcg5U90z</th>\n",
       "      <td>card payment</td>\n",
       "      <td>ebay</td>\n",
       "      <td>shopping</td>\n",
       "      <td>-164.69</td>\n",
       "      <td>-164.69</td>\n",
       "      <td>gbp</td>\n",
       "      <td>ebay o*01-11855-11839  london        gbr</td>\n",
       "      <td>-164.69</td>\n",
       "      <td>NaN</td>\n",
       "      <td>2024-07-21 19:26:28</td>\n",
       "      <td>823.88</td>\n",
       "    </tr>\n",
       "    <tr>\n",
       "      <th>tx_0000AjgXavk71MAZpQ8iZO</th>\n",
       "      <td>faster payment</td>\n",
       "      <td>m a kaci</td>\n",
       "      <td>bills</td>\n",
       "      <td>-29.78</td>\n",
       "      <td>-29.78</td>\n",
       "      <td>gbp</td>\n",
       "      <td>council tax</td>\n",
       "      <td>-29.78</td>\n",
       "      <td>NaN</td>\n",
       "      <td>2024-07-07 11:01:38</td>\n",
       "      <td>952.57</td>\n",
       "    </tr>\n",
       "    <tr>\n",
       "      <th>tx_0000AkBZpE3ZwwUphLLwCf</th>\n",
       "      <td>card payment</td>\n",
       "      <td>resident advisor</td>\n",
       "      <td>entertainment</td>\n",
       "      <td>-27.50</td>\n",
       "      <td>-27.50</td>\n",
       "      <td>gbp</td>\n",
       "      <td>resident advisor ticke london        gbr</td>\n",
       "      <td>-27.50</td>\n",
       "      <td>NaN</td>\n",
       "      <td>2024-07-22 10:22:41</td>\n",
       "      <td>796.38</td>\n",
       "    </tr>\n",
       "    <tr>\n",
       "      <th>tx_0000AjhrFvjO3t4osPHxcQ</th>\n",
       "      <td>direct debit</td>\n",
       "      <td>community fibre</td>\n",
       "      <td>bills</td>\n",
       "      <td>-24.69</td>\n",
       "      <td>-24.69</td>\n",
       "      <td>gbp</td>\n",
       "      <td>a685512</td>\n",
       "      <td>-24.69</td>\n",
       "      <td>NaN</td>\n",
       "      <td>2024-07-08 02:16:39</td>\n",
       "      <td>929.65</td>\n",
       "    </tr>\n",
       "    <tr>\n",
       "      <th>tx_0000AjjRVvNGwkYzVXEZQg</th>\n",
       "      <td>card payment</td>\n",
       "      <td>tonkotsu clapham</td>\n",
       "      <td>eating out</td>\n",
       "      <td>-23.51</td>\n",
       "      <td>-23.51</td>\n",
       "      <td>gbp</td>\n",
       "      <td>tonkotsu clapham       london        gbr</td>\n",
       "      <td>-23.51</td>\n",
       "      <td>NaN</td>\n",
       "      <td>2024-07-08 20:37:38</td>\n",
       "      <td>905.74</td>\n",
       "    </tr>\n",
       "    <tr>\n",
       "      <th>tx_0000AjgddnsvIBDRQK54Fu</th>\n",
       "      <td>card payment</td>\n",
       "      <td>aldi</td>\n",
       "      <td>groceries</td>\n",
       "      <td>-22.93</td>\n",
       "      <td>-22.93</td>\n",
       "      <td>gbp</td>\n",
       "      <td>aldi (781-112)         london        gbr</td>\n",
       "      <td>-22.93</td>\n",
       "      <td>NaN</td>\n",
       "      <td>2024-07-07 12:09:23</td>\n",
       "      <td>921.54</td>\n",
       "    </tr>\n",
       "    <tr>\n",
       "      <th>tx_0000AkXfYTLwhPIxZgcPJp</th>\n",
       "      <td>direct debit</td>\n",
       "      <td>id mobile</td>\n",
       "      <td>bills</td>\n",
       "      <td>-20.00</td>\n",
       "      <td>-20.00</td>\n",
       "      <td>gbp</td>\n",
       "      <td>10903125/001</td>\n",
       "      <td>-20.00</td>\n",
       "      <td>NaN</td>\n",
       "      <td>2024-08-02 02:10:32</td>\n",
       "      <td>3600.99</td>\n",
       "    </tr>\n",
       "  </tbody>\n",
       "</table>\n",
       "</div>"
      ],
      "text/plain": [
       "                                     type               name       category  amount  local_amount local_currency                               description  money_out   \n",
       "transaction_id                                                                                                                                                          \n",
       "tx_0000Ak0De7ZFOuSFRLC2i6  faster payment   hoxton house ltd          bills -700.00       -700.00            gbp                              rent jul-aug    -700.00  \\\n",
       "tx_0000AkQ3upG2mWLqoIj6CB    card payment     mol wex rental        general -234.32       -234.32            gbp  mol*wex rental         442073835127  gbr    -234.32   \n",
       "tx_0000AkA4EP7WYqiFLL25y6    card payment  mytrip 1025216549       holidays -207.99       -207.99            gbp  mytrip_1025216549      online        gbr    -207.99   \n",
       "tx_0000AkAHqJkyFZqcg5U90z    card payment               ebay       shopping -164.69       -164.69            gbp  ebay o*01-11855-11839  london        gbr    -164.69   \n",
       "tx_0000AjgXavk71MAZpQ8iZO  faster payment           m a kaci          bills  -29.78        -29.78            gbp                               council tax     -29.78   \n",
       "tx_0000AkBZpE3ZwwUphLLwCf    card payment   resident advisor  entertainment  -27.50        -27.50            gbp  resident advisor ticke london        gbr     -27.50   \n",
       "tx_0000AjhrFvjO3t4osPHxcQ    direct debit    community fibre          bills  -24.69        -24.69            gbp                                   a685512     -24.69   \n",
       "tx_0000AjjRVvNGwkYzVXEZQg    card payment   tonkotsu clapham     eating out  -23.51        -23.51            gbp  tonkotsu clapham       london        gbr     -23.51   \n",
       "tx_0000AjgddnsvIBDRQK54Fu    card payment               aldi      groceries  -22.93        -22.93            gbp  aldi (781-112)         london        gbr     -22.93   \n",
       "tx_0000AkXfYTLwhPIxZgcPJp    direct debit          id mobile          bills  -20.00        -20.00            gbp                              10903125/001     -20.00   \n",
       "\n",
       "                           money_in         tr_datetime  balance  \n",
       "transaction_id                                                    \n",
       "tx_0000Ak0De7ZFOuSFRLC2i6       NaN 2024-07-16 22:52:20  1023.00  \n",
       "tx_0000AkQ3upG2mWLqoIj6CB       NaN 2024-07-29 10:05:29   651.37  \n",
       "tx_0000AkA4EP7WYqiFLL25y6       NaN 2024-07-21 16:53:57   988.57  \n",
       "tx_0000AkAHqJkyFZqcg5U90z       NaN 2024-07-21 19:26:28   823.88  \n",
       "tx_0000AjgXavk71MAZpQ8iZO       NaN 2024-07-07 11:01:38   952.57  \n",
       "tx_0000AkBZpE3ZwwUphLLwCf       NaN 2024-07-22 10:22:41   796.38  \n",
       "tx_0000AjhrFvjO3t4osPHxcQ       NaN 2024-07-08 02:16:39   929.65  \n",
       "tx_0000AjjRVvNGwkYzVXEZQg       NaN 2024-07-08 20:37:38   905.74  \n",
       "tx_0000AjgddnsvIBDRQK54Fu       NaN 2024-07-07 12:09:23   921.54  \n",
       "tx_0000AkXfYTLwhPIxZgcPJp       NaN 2024-08-02 02:10:32  3600.99  "
      ]
     },
     "execution_count": 132,
     "metadata": {},
     "output_type": "execute_result"
    }
   ],
   "source": [
    "# Anomalous transactions (should exclude for prediction)\n",
    "df_1_mo = df_1_mo.sort_values('amount', ascending=True).set_index('transaction_id')\n",
    "df_1_mo.head(10)"
   ]
  },
  {
   "cell_type": "code",
   "execution_count": null,
   "metadata": {},
   "outputs": [],
   "source": [
    "df_1_mo.tail(10)"
   ]
  },
  {
   "cell_type": "markdown",
   "metadata": {},
   "source": []
  },
  {
   "cell_type": "code",
   "execution_count": null,
   "metadata": {},
   "outputs": [],
   "source": [
    "df_1_mo = df_1_mo.drop(['tx_0000AiuhpP1IddgljCOu49', # deposit\n",
    "'tx_0000AjBOIfFmfMYVKsvBvl', # transfer to PJPS Starling\n",
    "'tx_0000Aiv8WC9AyOv4fEIoV7', # cornwall train\n",
    "'tx_0000AjKWk8VgXz5pU15Sk5']) # parking permits"
   ]
  },
  {
   "cell_type": "code",
   "execution_count": null,
   "metadata": {},
   "outputs": [],
   "source": [
    "df_1_mo['money_out'].sum() - 700\n",
    "# -£1410.81"
   ]
  },
  {
   "cell_type": "code",
   "execution_count": null,
   "metadata": {},
   "outputs": [],
   "source": [
    "# df_1_mo['count_col'] = 1\n",
    "df_1_mo_pivot = pd.pivot_table(\n",
    "    df_1_mo,\n",
    "    index='description',          # Column to group by\n",
    "    values='money_out',        # Column to aggregate\n",
    "    aggfunc={'money_out': ['sum', 'count']}  # Aggregation functions\n",
    ")\n",
    "df_1_mo_pivot.sort_values('sum')\n",
    "\n",
    "# conclusion: no more transactions that need excluding. £1410 is an accurate spending prediction\n",
    "# conclusion: grocery spend £270 (7 vendors). Could likely be a little less by sticking to aldi\n"
   ]
  },
  {
   "cell_type": "code",
   "execution_count": null,
   "metadata": {},
   "outputs": [],
   "source": [
    "df_transactions[df_transactions['description']=='shop and go old street london gbr']"
   ]
  },
  {
   "cell_type": "code",
   "execution_count": null,
   "metadata": {},
   "outputs": [],
   "source": [
    "df_1_mo[df_1_mo['description'].str.contains('tonkotsu.')]"
   ]
  },
  {
   "cell_type": "code",
   "execution_count": null,
   "metadata": {},
   "outputs": [],
   "source": [
    "df_1_mo = df_1_mo.sort_values('tr_datetime')\n",
    "for i, row in df_1_mo.iterrows():\n",
    "    print('\\t'.join([str(row['amount']), row['description'], str(row['tr_datetime'])]))\n"
   ]
  }
 ],
 "metadata": {
  "kernelspec": {
   "display_name": "Python 3",
   "language": "python",
   "name": "python3"
  },
  "language_info": {
   "codemirror_mode": {
    "name": "ipython",
    "version": 3
   },
   "file_extension": ".py",
   "mimetype": "text/x-python",
   "name": "python",
   "nbconvert_exporter": "python",
   "pygments_lexer": "ipython3",
   "version": "3.11.6"
  }
 },
 "nbformat": 4,
 "nbformat_minor": 2
}
